{
 "cells": [
  {
   "cell_type": "code",
   "execution_count": null,
   "id": "e7443fdc-fd21-466b-aabe-f6d4e08b9a43",
   "metadata": {},
   "outputs": [
    {
     "name": "stderr",
     "output_type": "stream",
     "text": [
      "/lustre/isaac/scratch/ababjac/pyvenv/lib/python3.9/site-packages/shap/utils/_clustering.py:35: NumbaDeprecationWarning: The 'nopython' keyword argument was not supplied to the 'numba.jit' decorator. The implicit default value for this argument is currently False, but it will be changed to True in Numba 0.59.0. See https://numba.readthedocs.io/en/stable/reference/deprecation.html#deprecation-of-object-mode-fall-back-behaviour-when-using-jit for details.\n",
      "  def _pt_shuffle_rec(i, indexes, index_mask, partition_tree, M, pos):\n",
      "/lustre/isaac/scratch/ababjac/pyvenv/lib/python3.9/site-packages/shap/utils/_clustering.py:54: NumbaDeprecationWarning: The 'nopython' keyword argument was not supplied to the 'numba.jit' decorator. The implicit default value for this argument is currently False, but it will be changed to True in Numba 0.59.0. See https://numba.readthedocs.io/en/stable/reference/deprecation.html#deprecation-of-object-mode-fall-back-behaviour-when-using-jit for details.\n",
      "  def delta_minimization_order(all_masks, max_swap_size=100, num_passes=2):\n",
      "/lustre/isaac/scratch/ababjac/pyvenv/lib/python3.9/site-packages/shap/utils/_clustering.py:63: NumbaDeprecationWarning: The 'nopython' keyword argument was not supplied to the 'numba.jit' decorator. The implicit default value for this argument is currently False, but it will be changed to True in Numba 0.59.0. See https://numba.readthedocs.io/en/stable/reference/deprecation.html#deprecation-of-object-mode-fall-back-behaviour-when-using-jit for details.\n",
      "  def _reverse_window(order, start, length):\n",
      "/lustre/isaac/scratch/ababjac/pyvenv/lib/python3.9/site-packages/shap/utils/_clustering.py:69: NumbaDeprecationWarning: The 'nopython' keyword argument was not supplied to the 'numba.jit' decorator. The implicit default value for this argument is currently False, but it will be changed to True in Numba 0.59.0. See https://numba.readthedocs.io/en/stable/reference/deprecation.html#deprecation-of-object-mode-fall-back-behaviour-when-using-jit for details.\n",
      "  def _reverse_window_score_gain(masks, order, start, length):\n",
      "/lustre/isaac/scratch/ababjac/pyvenv/lib/python3.9/site-packages/shap/utils/_clustering.py:77: NumbaDeprecationWarning: The 'nopython' keyword argument was not supplied to the 'numba.jit' decorator. The implicit default value for this argument is currently False, but it will be changed to True in Numba 0.59.0. See https://numba.readthedocs.io/en/stable/reference/deprecation.html#deprecation-of-object-mode-fall-back-behaviour-when-using-jit for details.\n",
      "  def _mask_delta_score(m1, m2):\n",
      "/lustre/isaac/scratch/ababjac/pyvenv/lib/python3.9/site-packages/shap/links.py:5: NumbaDeprecationWarning: The 'nopython' keyword argument was not supplied to the 'numba.jit' decorator. The implicit default value for this argument is currently False, but it will be changed to True in Numba 0.59.0. See https://numba.readthedocs.io/en/stable/reference/deprecation.html#deprecation-of-object-mode-fall-back-behaviour-when-using-jit for details.\n",
      "  def identity(x):\n",
      "/lustre/isaac/scratch/ababjac/pyvenv/lib/python3.9/site-packages/shap/links.py:10: NumbaDeprecationWarning: The 'nopython' keyword argument was not supplied to the 'numba.jit' decorator. The implicit default value for this argument is currently False, but it will be changed to True in Numba 0.59.0. See https://numba.readthedocs.io/en/stable/reference/deprecation.html#deprecation-of-object-mode-fall-back-behaviour-when-using-jit for details.\n",
      "  def _identity_inverse(x):\n",
      "/lustre/isaac/scratch/ababjac/pyvenv/lib/python3.9/site-packages/shap/links.py:15: NumbaDeprecationWarning: The 'nopython' keyword argument was not supplied to the 'numba.jit' decorator. The implicit default value for this argument is currently False, but it will be changed to True in Numba 0.59.0. See https://numba.readthedocs.io/en/stable/reference/deprecation.html#deprecation-of-object-mode-fall-back-behaviour-when-using-jit for details.\n",
      "  def logit(x):\n",
      "/lustre/isaac/scratch/ababjac/pyvenv/lib/python3.9/site-packages/shap/links.py:20: NumbaDeprecationWarning: The 'nopython' keyword argument was not supplied to the 'numba.jit' decorator. The implicit default value for this argument is currently False, but it will be changed to True in Numba 0.59.0. See https://numba.readthedocs.io/en/stable/reference/deprecation.html#deprecation-of-object-mode-fall-back-behaviour-when-using-jit for details.\n",
      "  def _logit_inverse(x):\n",
      "/lustre/isaac/scratch/ababjac/pyvenv/lib/python3.9/site-packages/shap/utils/_masked_model.py:363: NumbaDeprecationWarning: The 'nopython' keyword argument was not supplied to the 'numba.jit' decorator. The implicit default value for this argument is currently False, but it will be changed to True in Numba 0.59.0. See https://numba.readthedocs.io/en/stable/reference/deprecation.html#deprecation-of-object-mode-fall-back-behaviour-when-using-jit for details.\n",
      "  def _build_fixed_single_output(averaged_outs, last_outs, outputs, batch_positions, varying_rows, num_varying_rows, link, linearizing_weights):\n",
      "/lustre/isaac/scratch/ababjac/pyvenv/lib/python3.9/site-packages/shap/utils/_masked_model.py:385: NumbaDeprecationWarning: The 'nopython' keyword argument was not supplied to the 'numba.jit' decorator. The implicit default value for this argument is currently False, but it will be changed to True in Numba 0.59.0. See https://numba.readthedocs.io/en/stable/reference/deprecation.html#deprecation-of-object-mode-fall-back-behaviour-when-using-jit for details.\n",
      "  def _build_fixed_multi_output(averaged_outs, last_outs, outputs, batch_positions, varying_rows, num_varying_rows, link, linearizing_weights):\n",
      "/lustre/isaac/scratch/ababjac/pyvenv/lib/python3.9/site-packages/shap/utils/_masked_model.py:428: NumbaDeprecationWarning: The 'nopython' keyword argument was not supplied to the 'numba.jit' decorator. The implicit default value for this argument is currently False, but it will be changed to True in Numba 0.59.0. See https://numba.readthedocs.io/en/stable/reference/deprecation.html#deprecation-of-object-mode-fall-back-behaviour-when-using-jit for details.\n",
      "  def _init_masks(cluster_matrix, M, indices_row_pos, indptr):\n",
      "/lustre/isaac/scratch/ababjac/pyvenv/lib/python3.9/site-packages/shap/utils/_masked_model.py:439: NumbaDeprecationWarning: The 'nopython' keyword argument was not supplied to the 'numba.jit' decorator. The implicit default value for this argument is currently False, but it will be changed to True in Numba 0.59.0. See https://numba.readthedocs.io/en/stable/reference/deprecation.html#deprecation-of-object-mode-fall-back-behaviour-when-using-jit for details.\n",
      "  def _rec_fill_masks(cluster_matrix, indices_row_pos, indptr, indices, M, ind):\n",
      "/lustre/isaac/scratch/ababjac/pyvenv/lib/python3.9/site-packages/shap/maskers/_tabular.py:186: NumbaDeprecationWarning: The 'nopython' keyword argument was not supplied to the 'numba.jit' decorator. The implicit default value for this argument is currently False, but it will be changed to True in Numba 0.59.0. See https://numba.readthedocs.io/en/stable/reference/deprecation.html#deprecation-of-object-mode-fall-back-behaviour-when-using-jit for details.\n",
      "  def _single_delta_mask(dind, masked_inputs, last_mask, data, x, noop_code):\n",
      "/lustre/isaac/scratch/ababjac/pyvenv/lib/python3.9/site-packages/shap/maskers/_tabular.py:197: NumbaDeprecationWarning: The 'nopython' keyword argument was not supplied to the 'numba.jit' decorator. The implicit default value for this argument is currently False, but it will be changed to True in Numba 0.59.0. See https://numba.readthedocs.io/en/stable/reference/deprecation.html#deprecation-of-object-mode-fall-back-behaviour-when-using-jit for details.\n",
      "  def _delta_masking(masks, x, curr_delta_inds, varying_rows_out,\n"
     ]
    }
   ],
   "source": [
    "#https://colab.research.google.com/github/ml6team/quick-tips/blob/main/nlp/2021_04_22_shap_for_huggingface_transformers/explainable_transformers_using_shap.ipynb#scrollTo=7XgsySD-u_rN\n",
    "\n",
    "import shap\n",
    "import transformers\n",
    "\n",
    "from transformers import (AutoTokenizer, \n",
    "                          AutoModelForSequenceClassification, \n",
    "                          TextClassificationPipeline)\n",
    "\n",
    "import os\n",
    "import pandas as pd\n",
    "import numpy as np\n",
    "import helpers\n",
    "\n",
    "from sklearn.model_selection import train_test_split\n"
   ]
  },
  {
   "cell_type": "code",
   "execution_count": null,
   "id": "7b9b50bb-73de-43de-ba6a-900b54bda161",
   "metadata": {
    "tags": []
   },
   "outputs": [],
   "source": [
    "df = pd.read_csv('./data/cub.csv', index_col=0)\n",
    "\n",
    "df_train, df_test = train_test_split(df, test_size=0.2, random_state=1234)"
   ]
  },
  {
   "cell_type": "code",
   "execution_count": null,
   "id": "cd1ec41e-3f8d-4f06-a1e4-f35c8721d2ce",
   "metadata": {
    "tags": []
   },
   "outputs": [],
   "source": [
    "shap_df = df_test[df_test['species'] == 'yeasts288c']"
   ]
  },
  {
   "cell_type": "code",
   "execution_count": null,
   "id": "7be908e3-bfd6-45aa-b19a-0e672c329717",
   "metadata": {
    "tags": []
   },
   "outputs": [],
   "source": [
    "import helpers\n",
    "\n",
    "shap_df = helpers.add_codons_to_df(shap_df, 'Sequence')"
   ]
  },
  {
   "cell_type": "code",
   "execution_count": null,
   "id": "511c0674-a664-4734-8546-7467e97c4bb3",
   "metadata": {
    "tags": []
   },
   "outputs": [],
   "source": [
    "lengths = [len(seq) for seq in shap_df['codons_cleaned']]\n",
    "shap_df['lengths'] = lengths"
   ]
  },
  {
   "cell_type": "code",
   "execution_count": null,
   "id": "e3017cb6-8161-46c8-b152-cea8f824acef",
   "metadata": {
    "tags": []
   },
   "outputs": [],
   "source": [
    "shap_df = shap_df[shap_df['lengths'] < 1064]"
   ]
  },
  {
   "cell_type": "code",
   "execution_count": null,
   "id": "9e3bcc16-9907-4e33-bb20-8eebc745c0eb",
   "metadata": {
    "tags": []
   },
   "outputs": [],
   "source": [
    "# import matplotlib.pyplot as plt\n",
    "\n",
    "# fig, ax = plt.subplots()\n",
    "# N, bins, patches = ax.hist(np.log(df['median_exp']), edgecolor='white', linewidth=1, bins=30)\n",
    "\n",
    "# for i in range(0,12):\n",
    "#     patches[i].set_facecolor('#068cf9')\n",
    "# # for i in range(7,14):    \n",
    "# #     patches[i].set_facecolor('#a41daa')\n",
    "# for i in range(12, len(patches)):\n",
    "#     patches[i].set_facecolor('#ff0051')\n",
    "\n",
    "# plt.title('Distribution of Median Expression')\n",
    "# plt.xlabel('Log of Median Expression')\n",
    "# plt.ylabel('Bin Count')\n",
    "# plt.show()"
   ]
  },
  {
   "cell_type": "code",
   "execution_count": null,
   "id": "60bc9893-008e-47f9-a807-2a7ec7adeeba",
   "metadata": {},
   "outputs": [],
   "source": [
    "pos = max(df['median_exp'])\n",
    "neutral = np.median(df['median_exp'])\n",
    "neg = min(df['median_exp'])"
   ]
  },
  {
   "cell_type": "code",
   "execution_count": null,
   "id": "7bc9ad83-7866-4a9e-b42f-9e724080ffe2",
   "metadata": {
    "tags": []
   },
   "outputs": [],
   "source": [
    "pos"
   ]
  },
  {
   "cell_type": "code",
   "execution_count": null,
   "id": "e6f19717-bf8a-4504-94dd-bf05f222e95e",
   "metadata": {
    "tags": []
   },
   "outputs": [],
   "source": [
    "neutral"
   ]
  },
  {
   "cell_type": "code",
   "execution_count": null,
   "id": "0176eac1-f0a6-491e-9d4a-4c4818a426b9",
   "metadata": {
    "tags": []
   },
   "outputs": [],
   "source": [
    "neg"
   ]
  },
  {
   "cell_type": "code",
   "execution_count": null,
   "id": "fdbc3e56-83d9-4ec8-9f50-748d72690604",
   "metadata": {
    "tags": []
   },
   "outputs": [],
   "source": [
    "pos_seq = ''.join(df.loc[df['median_exp'] == pos, 'codons_cleaned'].tolist())\n",
    "pos_seq"
   ]
  },
  {
   "cell_type": "code",
   "execution_count": null,
   "id": "c43903a5-ae6a-486f-bf92-b4059ef75dcb",
   "metadata": {
    "tags": []
   },
   "outputs": [],
   "source": [
    "neutral_seq = ''.join(df.loc[df['median_exp'] == 14.0, 'codons_cleaned'].tolist())\n",
    "neutral_seq"
   ]
  },
  {
   "cell_type": "code",
   "execution_count": null,
   "id": "ae7c7768-cf11-4205-877f-cd00ccb37d50",
   "metadata": {
    "tags": []
   },
   "outputs": [],
   "source": [
    "neg_seq = ''.join(df.loc[df['median_exp'] == neg, 'codons_cleaned'].tolist())\n",
    "neg_seq"
   ]
  },
  {
   "cell_type": "code",
   "execution_count": null,
   "id": "68827787-f6c8-4adc-a882-64e5392cdb51",
   "metadata": {},
   "outputs": [],
   "source": [
    "tokenizer_name = \"./tokenizers/codonBERT\"\n",
    "model_name = \"./models/codonBERT-binary-large_1/checkpoint-127330\"\n",
    "\n",
    "tokenizer = AutoTokenizer.from_pretrained(tokenizer_name, token_type_ids=False)\n",
    "model = AutoModelForSequenceClassification.from_pretrained(model_name).cpu()\n",
    "\n",
    "pipe_binary = TextClassificationPipeline(model=model, tokenizer=tokenizer, return_all_scores=True)"
   ]
  },
  {
   "cell_type": "code",
   "execution_count": null,
   "id": "d19a50d9-ab19-4b78-b067-98547a0e520a",
   "metadata": {
    "tags": []
   },
   "outputs": [],
   "source": [
    "tokenizer_name = \"./tokenizers/codonBERT\"\n",
    "model_name = \"./models/codonBERT-multi-large_1/checkpoint-127330\"\n",
    "\n",
    "tokenizer = AutoTokenizer.from_pretrained(tokenizer_name, token_type_ids=False)\n",
    "model = AutoModelForSequenceClassification.from_pretrained(model_name).cpu()\n",
    "\n",
    "pipe_multi = TextClassificationPipeline(model=model, tokenizer=tokenizer, return_all_scores=True)"
   ]
  },
  {
   "cell_type": "code",
   "execution_count": null,
   "id": "0fa13c50-6519-4638-b03a-44ddc34a199f",
   "metadata": {},
   "outputs": [],
   "source": [
    "def score_and_visualize(texts, pipe):\n",
    "    #prediction = pipe(texts)\n",
    "    #print(prediction[0])\n",
    "\n",
    "    explainer = shap.Explainer(pipe)\n",
    "    shap_values = explainer(texts)\n",
    "\n",
    "    #shap.plots.text(shap_values)\n",
    "    shap.plots.beeswarm(shap_values)"
   ]
  },
  {
   "cell_type": "code",
   "execution_count": null,
   "id": "daa9136d-9cca-4cd8-a555-9f0ee2af5e73",
   "metadata": {
    "tags": []
   },
   "outputs": [],
   "source": [
    "score_and_visualize(shap_df['codons_cleaned'], pipe_binary)"
   ]
  },
  {
   "cell_type": "code",
   "execution_count": null,
   "id": "0c4bd298-9c33-49f8-8601-390e5ab79177",
   "metadata": {
    "tags": []
   },
   "outputs": [],
   "source": [
    "score_and_visualize(shap_df['codons_cleaned'], pipe_multi)"
   ]
  },
  {
   "cell_type": "code",
   "execution_count": null,
   "id": "c203a643-70cd-4637-a68b-57e4e92e7c84",
   "metadata": {
    "tags": []
   },
   "outputs": [],
   "source": [
    "def score_and_visualize(texts, pipe):\n",
    "    prediction = pipe([texts])\n",
    "    print(prediction[0])\n",
    "\n",
    "    explainer = shap.Explainer(pipe)\n",
    "    shap_values = explainer([texts])\n",
    "\n",
    "    #shap.plots.text(shap_values)\n",
    "    #shap.plots.beeswarm(shap_values)\n",
    "    shap.plots.bar(shap_values[0])"
   ]
  },
  {
   "cell_type": "code",
   "execution_count": null,
   "id": "c77a0c08-f50c-4f3f-9ef7-a4914ae418cb",
   "metadata": {
    "tags": []
   },
   "outputs": [],
   "source": [
    "#positive\n",
    "score_and_visualize('ATG ACA CGC GTT CAA TTT AAA CAC CAC CAT CAT CAC CAT CAT CCT GAC TAG')"
   ]
  },
  {
   "cell_type": "code",
   "execution_count": null,
   "id": "a8c19add-cecb-43e3-aba6-bf50f0ff6a85",
   "metadata": {
    "tags": []
   },
   "outputs": [],
   "source": [
    "#negative\n",
    "score_and_visualize('ATG CCA GTC AAC AGC GTC CTT TGC CAT TTT TCT TCC GAC TTT TCA TTG GGC CTC ATA TTG CAA GAT ATC TAA')"
   ]
  },
  {
   "cell_type": "code",
   "execution_count": null,
   "id": "7d3bee6f-443b-4a6f-bca7-48cd43d35e88",
   "metadata": {
    "tags": []
   },
   "outputs": [],
   "source": [
    "#positive\n",
    "score_and_visualize('ATG ACA CGC GTT CAA TTT AAA CAC CAC CAT CAT CAC CAT CAT CCT GAC TAG')"
   ]
  },
  {
   "cell_type": "code",
   "execution_count": null,
   "id": "43cb00bb-f79b-4aa4-9886-f8e232193db9",
   "metadata": {
    "tags": []
   },
   "outputs": [],
   "source": [
    "#neutral low\n",
    "score_and_visualize('ATG AAC GCG GCG ATA TTG AAA ATT CGC TTC AGT TTC CAA GGA TTT CTT GAA AGA GAT TAGATG TGC CGT CGA GAG AGG TGG TTG GTA CGG TAG')"
   ]
  },
  {
   "cell_type": "code",
   "execution_count": null,
   "id": "4645ab3c-5407-4e4f-a6eb-7f9890a85b36",
   "metadata": {
    "tags": []
   },
   "outputs": [],
   "source": [
    "#neutral med\n",
    "score_and_visualize('ATG GTT GAT CCA TAC TGG ATG GCA AAC TTC AAC TGT TAG')"
   ]
  },
  {
   "cell_type": "code",
   "execution_count": null,
   "id": "ddbf0ba8-3545-4aa6-b184-8d2c46080070",
   "metadata": {
    "tags": []
   },
   "outputs": [],
   "source": [
    "#neutral high\n",
    "score_and_visualize('ATG TTT GAA CTG TTT GTT ACA AAT GAC ATC TCT CAC TCC TGA')"
   ]
  },
  {
   "cell_type": "code",
   "execution_count": null,
   "id": "46448fc7-1803-4613-9f60-0648893b6a65",
   "metadata": {
    "tags": []
   },
   "outputs": [],
   "source": [
    "#negative\n",
    "score_and_visualize('ATG CCA GTC AAC AGC GTC CTT TGC CAT TTT TCT TCC GAC TTT TCA TTG GGC CTC ATA TTG CAA GAT ATC TAA')"
   ]
  }
 ],
 "metadata": {
  "kernelspec": {
   "display_name": "Python 3 (ipykernel)",
   "language": "python",
   "name": "python3"
  },
  "language_info": {
   "codemirror_mode": {
    "name": "ipython",
    "version": 3
   },
   "file_extension": ".py",
   "mimetype": "text/x-python",
   "name": "python",
   "nbconvert_exporter": "python",
   "pygments_lexer": "ipython3",
   "version": "3.9.10"
  }
 },
 "nbformat": 4,
 "nbformat_minor": 5
}
