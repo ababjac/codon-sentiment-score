{
 "cells": [
  {
   "cell_type": "code",
   "execution_count": 1,
   "id": "cc34004b-ad86-4ef2-8eae-428183fd236c",
   "metadata": {
    "tags": []
   },
   "outputs": [],
   "source": [
    "import os\n",
    "import helpers\n",
    "import pandas as pd\n",
    "\n",
    "PATH='/lustre/isaac/proj/UTK0196/codon-expression-data/fullTableForTrainning/'\n",
    "\n",
    "filelist = os.listdir(PATH)\n",
    "df_list = [pd.read_csv(PATH+file) for file in filelist]"
   ]
  },
  {
   "cell_type": "code",
   "execution_count": 2,
   "id": "d914fd01-3d46-4c3e-b5c4-7743174eff41",
   "metadata": {
    "tags": []
   },
   "outputs": [
    {
     "name": "stdout",
     "output_type": "stream",
     "text": [
      "Musmusculus_fulltable.csv 17236\n",
      "Saccharomyces_Cerevisiae_s288c_fulltable.csv 5030\n",
      "celegan_fulltable.csv 21013\n",
      "atha_fulltable.csv 6538\n",
      "ecoli_fulltable.csv 3682\n",
      "Drosophila_Melanogaster_fulltable.csv 13285\n",
      "yeasts288c_fulltable.csv 5036\n"
     ]
    }
   ],
   "source": [
    "for df, file in zip(df_list, filelist):\n",
    "    print(file, len(df))"
   ]
  },
  {
   "cell_type": "code",
   "execution_count": 16,
   "id": "7f6bba7a-ff64-4e87-87d7-4a2c73befbe9",
   "metadata": {
    "tags": []
   },
   "outputs": [],
   "source": [
    "codontable = {\n",
    "'ATA':'I', 'ATC':'I', 'ATT':'I', 'ATG':'M',\n",
    "'ACA':'T', 'ACC':'T', 'ACG':'T', 'ACT':'T',\n",
    "'AAC':'N', 'AAT':'N', 'AAA':'K', 'AAG':'K',\n",
    "'AGC':'S', 'AGT':'S', 'AGA':'R', 'AGG':'R',\n",
    "'CTA':'L', 'CTC':'L', 'CTG':'L', 'CTT':'L',\n",
    "'CCA':'P', 'CCC':'P', 'CCG':'P', 'CCT':'P',\n",
    "'CAC':'H', 'CAT':'H', 'CAA':'Q', 'CAG':'Q',\n",
    "'CGA':'R', 'CGC':'R', 'CGG':'R', 'CGT':'R',\n",
    "'GTA':'V', 'GTC':'V', 'GTG':'V', 'GTT':'V',\n",
    "'GCA':'A', 'GCC':'A', 'GCG':'A', 'GCT':'A',\n",
    "'GAC':'D', 'GAT':'D', 'GAA':'E', 'GAG':'E',\n",
    "'GGA':'G', 'GGC':'G', 'GGG':'G', 'GGT':'G',\n",
    "'TCA':'S', 'TCC':'S', 'TCG':'S', 'TCT':'S',\n",
    "'TTC':'F', 'TTT':'F', 'TTA':'L', 'TTG':'L',\n",
    "'TAC':'Y', 'TAT':'Y', 'TAA':'_', 'TAG':'_',\n",
    "'TGC':'C', 'TGT':'C', 'TGA':'_', 'TGG':'W',\n",
    "}\n",
    "\n",
    "def replace_codons_w_AA(l):\n",
    "    new_l = []\n",
    "    \n",
    "    for seq in l:\n",
    "        aa = [codontable[codon] for codon in seq.split(' ')]\n",
    "        new_l.append(''.join(aa))\n",
    "        \n",
    "    return new_l"
   ]
  },
  {
   "cell_type": "code",
   "execution_count": 20,
   "id": "6bd0e643-2beb-4ba0-9b41-beaa3c191d64",
   "metadata": {
    "tags": []
   },
   "outputs": [
    {
     "name": "stderr",
     "output_type": "stream",
     "text": [
      "/lustre/isaac/scratch/ababjac/codon-sentiment-score/helpers.py:53: SettingWithCopyWarning: \n",
      "A value is trying to be set on a copy of a slice from a DataFrame.\n",
      "Try using .loc[row_indexer,col_indexer] = value instead\n",
      "\n",
      "See the caveats in the documentation: https://pandas.pydata.org/pandas-docs/stable/user_guide/indexing.html#returning-a-view-versus-a-copy\n",
      "  df['codons_cleaned'] = get_codon_list(df[col])\n",
      "/tmp/ipykernel_3985508/448587677.py:3: SettingWithCopyWarning: \n",
      "A value is trying to be set on a copy of a slice from a DataFrame.\n",
      "Try using .loc[row_indexer,col_indexer] = value instead\n",
      "\n",
      "See the caveats in the documentation: https://pandas.pydata.org/pandas-docs/stable/user_guide/indexing.html#returning-a-view-versus-a-copy\n",
      "  df['amino_acids'] = replace_codons_w_AA(df.codons_cleaned)\n",
      "/lustre/isaac/scratch/ababjac/codon-sentiment-score/helpers.py:53: SettingWithCopyWarning: \n",
      "A value is trying to be set on a copy of a slice from a DataFrame.\n",
      "Try using .loc[row_indexer,col_indexer] = value instead\n",
      "\n",
      "See the caveats in the documentation: https://pandas.pydata.org/pandas-docs/stable/user_guide/indexing.html#returning-a-view-versus-a-copy\n",
      "  df['codons_cleaned'] = get_codon_list(df[col])\n",
      "/tmp/ipykernel_3985508/448587677.py:3: SettingWithCopyWarning: \n",
      "A value is trying to be set on a copy of a slice from a DataFrame.\n",
      "Try using .loc[row_indexer,col_indexer] = value instead\n",
      "\n",
      "See the caveats in the documentation: https://pandas.pydata.org/pandas-docs/stable/user_guide/indexing.html#returning-a-view-versus-a-copy\n",
      "  df['amino_acids'] = replace_codons_w_AA(df.codons_cleaned)\n",
      "/lustre/isaac/scratch/ababjac/codon-sentiment-score/helpers.py:53: SettingWithCopyWarning: \n",
      "A value is trying to be set on a copy of a slice from a DataFrame.\n",
      "Try using .loc[row_indexer,col_indexer] = value instead\n",
      "\n",
      "See the caveats in the documentation: https://pandas.pydata.org/pandas-docs/stable/user_guide/indexing.html#returning-a-view-versus-a-copy\n",
      "  df['codons_cleaned'] = get_codon_list(df[col])\n",
      "/tmp/ipykernel_3985508/448587677.py:3: SettingWithCopyWarning: \n",
      "A value is trying to be set on a copy of a slice from a DataFrame.\n",
      "Try using .loc[row_indexer,col_indexer] = value instead\n",
      "\n",
      "See the caveats in the documentation: https://pandas.pydata.org/pandas-docs/stable/user_guide/indexing.html#returning-a-view-versus-a-copy\n",
      "  df['amino_acids'] = replace_codons_w_AA(df.codons_cleaned)\n",
      "/lustre/isaac/scratch/ababjac/codon-sentiment-score/helpers.py:53: SettingWithCopyWarning: \n",
      "A value is trying to be set on a copy of a slice from a DataFrame.\n",
      "Try using .loc[row_indexer,col_indexer] = value instead\n",
      "\n",
      "See the caveats in the documentation: https://pandas.pydata.org/pandas-docs/stable/user_guide/indexing.html#returning-a-view-versus-a-copy\n",
      "  df['codons_cleaned'] = get_codon_list(df[col])\n",
      "/tmp/ipykernel_3985508/448587677.py:3: SettingWithCopyWarning: \n",
      "A value is trying to be set on a copy of a slice from a DataFrame.\n",
      "Try using .loc[row_indexer,col_indexer] = value instead\n",
      "\n",
      "See the caveats in the documentation: https://pandas.pydata.org/pandas-docs/stable/user_guide/indexing.html#returning-a-view-versus-a-copy\n",
      "  df['amino_acids'] = replace_codons_w_AA(df.codons_cleaned)\n"
     ]
    }
   ],
   "source": [
    "for df, file in zip(df_list, filelist):\n",
    "    df = helpers.add_codons_to_df(df, 'Sequence') \n",
    "    df['amino_acids'] = replace_codons_w_AA(df.codons_cleaned)\n",
    "    \n",
    "    #print(df.columns)\n",
    "    df.to_csv('./data/'+file)"
   ]
  }
 ],
 "metadata": {
  "kernelspec": {
   "display_name": "Python 3 (ipykernel)",
   "language": "python",
   "name": "python3"
  },
  "language_info": {
   "codemirror_mode": {
    "name": "ipython",
    "version": 3
   },
   "file_extension": ".py",
   "mimetype": "text/x-python",
   "name": "python",
   "nbconvert_exporter": "python",
   "pygments_lexer": "ipython3",
   "version": "3.9.10"
  }
 },
 "nbformat": 4,
 "nbformat_minor": 5
}
