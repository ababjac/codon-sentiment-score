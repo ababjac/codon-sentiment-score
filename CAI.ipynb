{
 "cells": [
  {
   "cell_type": "code",
   "execution_count": 1,
   "id": "e7443fdc-fd21-466b-aabe-f6d4e08b9a43",
   "metadata": {},
   "outputs": [],
   "source": [
    "import os\n",
    "import pandas as pd\n",
    "import numpy as np\n",
    "import helpers\n",
    "from CAI import RSCU, CAI\n",
    "\n",
    "from sklearn.model_selection import train_test_split\n"
   ]
  },
  {
   "cell_type": "code",
   "execution_count": 13,
   "id": "bb377ed5-92c4-4d7c-bf86-9bfdccfa478e",
   "metadata": {
    "tags": []
   },
   "outputs": [],
   "source": [
    "#df = pd.read_csv('./data/cub.csv', index_col=0)\n",
    "PATH='/lustre/isaac/proj/UTK0196/codon-expression-data/fullTableForTrainning/'\n",
    "\n",
    "file = 'Musmusculus_fulltable.csv'\n",
    "\n",
    "df = pd.read_csv(PATH+file)\n",
    "df = helpers.clean(df, 'Sequence')\n",
    "rscu_dict = RSCU(df['Sequence'].tolist())\n",
    "CAIs = []\n",
    "    \n",
    "for seq in df['Sequence']:\n",
    "    CAIs.append(CAI(seq, RSCUs=rscu_dict))\n",
    "                \n",
    "df['CAI2'] = CAIs"
   ]
  },
  {
   "cell_type": "code",
   "execution_count": 15,
   "id": "1c09c3bb-444f-4ed0-a1a6-12a611b12990",
   "metadata": {
    "tags": []
   },
   "outputs": [],
   "source": [
    "df.to_csv('./data/mouse_cai.csv')"
   ]
  },
  {
   "cell_type": "code",
   "execution_count": 9,
   "id": "93c6d519-a999-44a0-86c4-7ffe28fce34e",
   "metadata": {
    "tags": []
   },
   "outputs": [
    {
     "ename": "KeyError",
     "evalue": "'species'",
     "output_type": "error",
     "traceback": [
      "\u001b[0;31m---------------------------------------------------------------------------\u001b[0m",
      "\u001b[0;31mKeyError\u001b[0m                                  Traceback (most recent call last)",
      "File \u001b[0;32m/lustre/isaac/scratch/ababjac/pyvenv/lib/python3.9/site-packages/pandas/core/indexes/base.py:3802\u001b[0m, in \u001b[0;36mIndex.get_loc\u001b[0;34m(self, key, method, tolerance)\u001b[0m\n\u001b[1;32m   3801\u001b[0m \u001b[38;5;28;01mtry\u001b[39;00m:\n\u001b[0;32m-> 3802\u001b[0m     \u001b[38;5;28;01mreturn\u001b[39;00m \u001b[38;5;28;43mself\u001b[39;49m\u001b[38;5;241;43m.\u001b[39;49m\u001b[43m_engine\u001b[49m\u001b[38;5;241;43m.\u001b[39;49m\u001b[43mget_loc\u001b[49m\u001b[43m(\u001b[49m\u001b[43mcasted_key\u001b[49m\u001b[43m)\u001b[49m\n\u001b[1;32m   3803\u001b[0m \u001b[38;5;28;01mexcept\u001b[39;00m \u001b[38;5;167;01mKeyError\u001b[39;00m \u001b[38;5;28;01mas\u001b[39;00m err:\n",
      "File \u001b[0;32m/lustre/isaac/scratch/ababjac/pyvenv/lib/python3.9/site-packages/pandas/_libs/index.pyx:138\u001b[0m, in \u001b[0;36mpandas._libs.index.IndexEngine.get_loc\u001b[0;34m()\u001b[0m\n",
      "File \u001b[0;32m/lustre/isaac/scratch/ababjac/pyvenv/lib/python3.9/site-packages/pandas/_libs/index.pyx:165\u001b[0m, in \u001b[0;36mpandas._libs.index.IndexEngine.get_loc\u001b[0;34m()\u001b[0m\n",
      "File \u001b[0;32mpandas/_libs/hashtable_class_helper.pxi:5745\u001b[0m, in \u001b[0;36mpandas._libs.hashtable.PyObjectHashTable.get_item\u001b[0;34m()\u001b[0m\n",
      "File \u001b[0;32mpandas/_libs/hashtable_class_helper.pxi:5753\u001b[0m, in \u001b[0;36mpandas._libs.hashtable.PyObjectHashTable.get_item\u001b[0;34m()\u001b[0m\n",
      "\u001b[0;31mKeyError\u001b[0m: 'species'",
      "\nThe above exception was the direct cause of the following exception:\n",
      "\u001b[0;31mKeyError\u001b[0m                                  Traceback (most recent call last)",
      "Cell \u001b[0;32mIn[9], line 2\u001b[0m\n\u001b[1;32m      1\u001b[0m dfs \u001b[38;5;241m=\u001b[39m []\n\u001b[0;32m----> 2\u001b[0m \u001b[38;5;28;01mfor\u001b[39;00m species \u001b[38;5;129;01min\u001b[39;00m \u001b[38;5;28mset\u001b[39m(\u001b[43mdf\u001b[49m\u001b[43m[\u001b[49m\u001b[38;5;124;43m'\u001b[39;49m\u001b[38;5;124;43mspecies\u001b[39;49m\u001b[38;5;124;43m'\u001b[39;49m\u001b[43m]\u001b[49m):\n\u001b[1;32m      3\u001b[0m     _df \u001b[38;5;241m=\u001b[39m df[df[\u001b[38;5;124m'\u001b[39m\u001b[38;5;124mspecies\u001b[39m\u001b[38;5;124m'\u001b[39m] \u001b[38;5;241m==\u001b[39m species] \n\u001b[1;32m      4\u001b[0m     _df \u001b[38;5;241m=\u001b[39m helpers\u001b[38;5;241m.\u001b[39mclean(_df, \u001b[38;5;124m'\u001b[39m\u001b[38;5;124mSequence\u001b[39m\u001b[38;5;124m'\u001b[39m)\n",
      "File \u001b[0;32m/lustre/isaac/scratch/ababjac/pyvenv/lib/python3.9/site-packages/pandas/core/frame.py:3807\u001b[0m, in \u001b[0;36mDataFrame.__getitem__\u001b[0;34m(self, key)\u001b[0m\n\u001b[1;32m   3805\u001b[0m \u001b[38;5;28;01mif\u001b[39;00m \u001b[38;5;28mself\u001b[39m\u001b[38;5;241m.\u001b[39mcolumns\u001b[38;5;241m.\u001b[39mnlevels \u001b[38;5;241m>\u001b[39m \u001b[38;5;241m1\u001b[39m:\n\u001b[1;32m   3806\u001b[0m     \u001b[38;5;28;01mreturn\u001b[39;00m \u001b[38;5;28mself\u001b[39m\u001b[38;5;241m.\u001b[39m_getitem_multilevel(key)\n\u001b[0;32m-> 3807\u001b[0m indexer \u001b[38;5;241m=\u001b[39m \u001b[38;5;28;43mself\u001b[39;49m\u001b[38;5;241;43m.\u001b[39;49m\u001b[43mcolumns\u001b[49m\u001b[38;5;241;43m.\u001b[39;49m\u001b[43mget_loc\u001b[49m\u001b[43m(\u001b[49m\u001b[43mkey\u001b[49m\u001b[43m)\u001b[49m\n\u001b[1;32m   3808\u001b[0m \u001b[38;5;28;01mif\u001b[39;00m is_integer(indexer):\n\u001b[1;32m   3809\u001b[0m     indexer \u001b[38;5;241m=\u001b[39m [indexer]\n",
      "File \u001b[0;32m/lustre/isaac/scratch/ababjac/pyvenv/lib/python3.9/site-packages/pandas/core/indexes/base.py:3804\u001b[0m, in \u001b[0;36mIndex.get_loc\u001b[0;34m(self, key, method, tolerance)\u001b[0m\n\u001b[1;32m   3802\u001b[0m     \u001b[38;5;28;01mreturn\u001b[39;00m \u001b[38;5;28mself\u001b[39m\u001b[38;5;241m.\u001b[39m_engine\u001b[38;5;241m.\u001b[39mget_loc(casted_key)\n\u001b[1;32m   3803\u001b[0m \u001b[38;5;28;01mexcept\u001b[39;00m \u001b[38;5;167;01mKeyError\u001b[39;00m \u001b[38;5;28;01mas\u001b[39;00m err:\n\u001b[0;32m-> 3804\u001b[0m     \u001b[38;5;28;01mraise\u001b[39;00m \u001b[38;5;167;01mKeyError\u001b[39;00m(key) \u001b[38;5;28;01mfrom\u001b[39;00m \u001b[38;5;21;01merr\u001b[39;00m\n\u001b[1;32m   3805\u001b[0m \u001b[38;5;28;01mexcept\u001b[39;00m \u001b[38;5;167;01mTypeError\u001b[39;00m:\n\u001b[1;32m   3806\u001b[0m     \u001b[38;5;66;03m# If we have a listlike key, _check_indexing_error will raise\u001b[39;00m\n\u001b[1;32m   3807\u001b[0m     \u001b[38;5;66;03m#  InvalidIndexError. Otherwise we fall through and re-raise\u001b[39;00m\n\u001b[1;32m   3808\u001b[0m     \u001b[38;5;66;03m#  the TypeError.\u001b[39;00m\n\u001b[1;32m   3809\u001b[0m     \u001b[38;5;28mself\u001b[39m\u001b[38;5;241m.\u001b[39m_check_indexing_error(key)\n",
      "\u001b[0;31mKeyError\u001b[0m: 'species'"
     ]
    }
   ],
   "source": [
    "\n",
    "dfs = []\n",
    "for species in set(df['species']):\n",
    "    _df = df[df['species'] == species] \n",
    "    _df = helpers.clean(_df, 'Sequence')\n",
    "    rscu_dict = RSCU(_df['Sequence'].tolist())\n",
    "    CAIs = []\n",
    "    \n",
    "    for seq in _df['Sequence']:\n",
    "        CAIs.append(CAI(seq, RSCUs=rscu_dict))\n",
    "        \n",
    "    _df['CAI2'] = CAIs\n",
    "    dfs.append(_df)\n",
    "    \n",
    "new_df = pd.concat(dfs)\n",
    "new_df"
   ]
  },
  {
   "cell_type": "code",
   "execution_count": 4,
   "id": "ca2de08b-bdf6-4add-b080-7ad9ea685106",
   "metadata": {
    "tags": []
   },
   "outputs": [],
   "source": [
    "new_df.to_csv('./data/cub2.csv')"
   ]
  },
  {
   "cell_type": "code",
   "execution_count": 2,
   "id": "59c06993-05f8-4104-80a0-14472cc99a97",
   "metadata": {
    "tags": []
   },
   "outputs": [],
   "source": [
    "PATH='/lustre/isaac/proj/UTK0196/codon-expression-data/fullTableForTrainning/'\n",
    "\n",
    "filelist = os.listdir(PATH)\n",
    "df_list = [pd.read_csv(PATH+file) for file in filelist]"
   ]
  },
  {
   "cell_type": "code",
   "execution_count": null,
   "id": "8249d2d5-51d2-4d72-b399-804544b13a6b",
   "metadata": {
    "tags": []
   },
   "outputs": [],
   "source": [
    "\n",
    "dfs = []\n",
    "for df in df_list:\n",
    "    df = helpers.clean(df, 'Sequence')\n",
    "    rscu_dict = RSCU(df['Sequence'].tolist())\n",
    "    CAIs = []\n",
    "    \n",
    "    for seq in df['Sequence']:\n",
    "        CAIs.append(CAI(seq, RSCUs=rscu_dict))\n",
    "        \n",
    "    df['CAI'] = CAIs\n",
    "    dfs.append(df)\n",
    "\n",
    "df = pd.concat(dfs)\n",
    "\n",
    "df = helpers.add_codons_to_df(df, 'Sequence')\n",
    "df['median_exp'] = np.log(df['median_exp'])\n",
    "#low, high = df.median_exp.quantile([0.33, 0.67])\n",
    "#print(low, high)\n",
    "\n",
    "#lengths = [len(elem) for elem in df['codons_cleaned']]\n",
    "#df['seq_len'] = lengths\n",
    "\n",
    "#df = df[df['seq_len'] < 100]"
   ]
  },
  {
   "cell_type": "code",
   "execution_count": 3,
   "id": "7b9b50bb-73de-43de-ba6a-900b54bda161",
   "metadata": {
    "tags": []
   },
   "outputs": [],
   "source": [
    "df = pd.read_csv('./cai.csv')\n",
    "\n",
    "df_train, df_test = train_test_split(df, test_size=0.2, random_state=1234)"
   ]
  },
  {
   "cell_type": "code",
   "execution_count": 5,
   "id": "db286d70-87f6-4e9b-97bc-7b91bd0c4241",
   "metadata": {
    "tags": []
   },
   "outputs": [
    {
     "name": "stdout",
     "output_type": "stream",
     "text": [
      "0\n",
      "2000\n",
      "4000\n",
      "6000\n",
      "8000\n",
      "10000\n",
      "12000\n",
      "14000\n",
      "16000\n",
      "18000\n",
      "20000\n",
      "22000\n",
      "24000\n",
      "26000\n",
      "28000\n",
      "30000\n",
      "32000\n",
      "34000\n",
      "36000\n",
      "38000\n",
      "40000\n",
      "42000\n",
      "44000\n",
      "46000\n",
      "48000\n",
      "50000\n",
      "52000\n",
      "54000\n",
      "56000\n",
      "58000\n",
      "60000\n",
      "62000\n",
      "64000\n",
      "66000\n",
      "68000\n",
      "70000\n"
     ]
    }
   ],
   "source": [
    "prob_0 = []\n",
    "prob_1 = []\n",
    "prob_2 = []\n",
    "pred_label = []\n",
    "\n",
    "count = 0\n",
    "\n",
    "for elem in df['codons_cleaned']:\n",
    "    \n",
    "    if count % 2000 == 0:\n",
    "        print(count)\n",
    "    \n",
    "    count += 1\n",
    "    \n",
    "    if len(elem) > 1024:\n",
    "        elem = elem[:1024]\n",
    "    \n",
    "    prediction = pipe([elem])\n",
    "    pred = prediction[0]\n",
    "    prob_0.append(pred[0]['score'])\n",
    "    prob_1.append(pred[1]['score'])\n",
    "    prob_2.append(pred[2]['score'])\n",
    "    \n",
    "    MAX = max([prob_0[-1], prob_1[-1], prob_2[-1]])\n",
    "    \n",
    "    if prob_0[-1] == MAX:\n",
    "        pred_label.append(0)\n",
    "    elif prob_1[-1] == MAX:\n",
    "        pred_label.append(1)\n",
    "    else:\n",
    "        pred_label.append(2)\n",
    "        \n",
    "df['prob_0_multi'] = prob_0\n",
    "df['prob_1_multi'] = prob_1\n",
    "df['prob_2_multi'] = prob_2\n",
    "df['pred_multi'] = pred_label"
   ]
  },
  {
   "cell_type": "code",
   "execution_count": 9,
   "id": "795cf4b2-c2b9-41c7-8c5e-cf4caa49ca5f",
   "metadata": {
    "tags": []
   },
   "outputs": [
    {
     "name": "stderr",
     "output_type": "stream",
     "text": [
      "`return_all_scores` is now deprecated,  if want a similar funcionality use `top_k=None` instead of `return_all_scores=True` or `top_k=1` instead of `return_all_scores=False`.\n"
     ]
    }
   ],
   "source": [
    "tokenizer_name = \"./tokenizers/codonBERT2\"\n",
    "model_name = \"./models/codonBERT-binary_1/checkpoint-99500\"\n",
    "\n",
    "tokenizer = AutoTokenizer.from_pretrained(tokenizer_name, token_type_ids=False, truncation=True, padding=True)\n",
    "model = AutoModelForSequenceClassification.from_pretrained(model_name).cpu()\n",
    "\n",
    "pipe = TextClassificationPipeline(model=model, tokenizer=tokenizer, return_all_scores=True)"
   ]
  },
  {
   "cell_type": "code",
   "execution_count": 10,
   "id": "d8809343-7d9b-4eea-93d3-7ecc83fc42a5",
   "metadata": {
    "tags": []
   },
   "outputs": [
    {
     "name": "stdout",
     "output_type": "stream",
     "text": [
      "0\n",
      "2000\n",
      "4000\n",
      "6000\n",
      "8000\n",
      "10000\n",
      "12000\n",
      "14000\n",
      "16000\n",
      "18000\n",
      "20000\n",
      "22000\n",
      "24000\n",
      "26000\n",
      "28000\n",
      "30000\n",
      "32000\n",
      "34000\n",
      "36000\n",
      "38000\n",
      "40000\n",
      "42000\n",
      "44000\n",
      "46000\n",
      "48000\n",
      "50000\n",
      "52000\n",
      "54000\n",
      "56000\n",
      "58000\n",
      "60000\n",
      "62000\n",
      "64000\n",
      "66000\n",
      "68000\n",
      "70000\n"
     ]
    }
   ],
   "source": [
    "prob_0 = []\n",
    "prob_1 = []\n",
    "pred_label = []\n",
    "\n",
    "count = 0\n",
    "\n",
    "for elem in df['codons_cleaned']:\n",
    "    \n",
    "    if count % 2000 == 0:\n",
    "        print(count)\n",
    "    \n",
    "    count += 1\n",
    "    \n",
    "    if len(elem) > 1024:\n",
    "        elem = elem[:1024]\n",
    "    \n",
    "    prediction = pipe([elem])\n",
    "    pred = prediction[0]\n",
    "    prob_0.append(pred[0]['score'])\n",
    "    prob_1.append(pred[1]['score'])\n",
    "    \n",
    "    MAX = max([prob_0[-1], prob_1[-1]])\n",
    "    \n",
    "    if prob_0[-1] == MAX:\n",
    "        pred_label.append(0)\n",
    "    elif prob_1[-1] == MAX:\n",
    "        pred_label.append(1)\n",
    "\n",
    "        \n",
    "df['prob_0_binary'] = prob_0\n",
    "df['prob_1_binary'] = prob_1\n",
    "df['pred_binary'] = pred_label"
   ]
  },
  {
   "cell_type": "code",
   "execution_count": 11,
   "id": "a434626d-232a-49fd-b628-f550e5919a5c",
   "metadata": {
    "tags": []
   },
   "outputs": [
    {
     "data": {
      "text/html": [
       "<div>\n",
       "<style scoped>\n",
       "    .dataframe tbody tr th:only-of-type {\n",
       "        vertical-align: middle;\n",
       "    }\n",
       "\n",
       "    .dataframe tbody tr th {\n",
       "        vertical-align: top;\n",
       "    }\n",
       "\n",
       "    .dataframe thead th {\n",
       "        text-align: right;\n",
       "    }\n",
       "</style>\n",
       "<table border=\"1\" class=\"dataframe\">\n",
       "  <thead>\n",
       "    <tr style=\"text-align: right;\">\n",
       "      <th></th>\n",
       "      <th>Unnamed: 0</th>\n",
       "      <th>GeneName</th>\n",
       "      <th>median_exp</th>\n",
       "      <th>Sequence</th>\n",
       "      <th>CAI</th>\n",
       "      <th>codons_cleaned</th>\n",
       "      <th>prob_0_multi</th>\n",
       "      <th>prob_1_multi</th>\n",
       "      <th>prob_2_multi</th>\n",
       "      <th>pred_multi</th>\n",
       "      <th>prob_0_binary</th>\n",
       "      <th>prob_1_binary</th>\n",
       "      <th>pred_binary</th>\n",
       "    </tr>\n",
       "  </thead>\n",
       "  <tbody>\n",
       "    <tr>\n",
       "      <th>0</th>\n",
       "      <td>0</td>\n",
       "      <td>Gnai3</td>\n",
       "      <td>3.555348</td>\n",
       "      <td>ATGGGCTGCACGTTGAGCGCCGAGGACAAGGCGGCGGTGGAGCGGA...</td>\n",
       "      <td>0.741979</td>\n",
       "      <td>ATG GGC TGC ACG TTG AGC GCC GAG GAC AAG GCG GC...</td>\n",
       "      <td>0.999378</td>\n",
       "      <td>0.000299</td>\n",
       "      <td>0.000323</td>\n",
       "      <td>0</td>\n",
       "      <td>0.006524</td>\n",
       "      <td>0.993476</td>\n",
       "      <td>1</td>\n",
       "    </tr>\n",
       "    <tr>\n",
       "      <th>1</th>\n",
       "      <td>1</td>\n",
       "      <td>Cdc45</td>\n",
       "      <td>0.371564</td>\n",
       "      <td>ATGTTCGTGACCGATTTCCGCAAGGAGTTCTACGAGACGGTCCACA...</td>\n",
       "      <td>0.769123</td>\n",
       "      <td>ATG TTC GTG ACC GAT TTC CGC AAG GAG TTC TAC GA...</td>\n",
       "      <td>0.813531</td>\n",
       "      <td>0.069915</td>\n",
       "      <td>0.116554</td>\n",
       "      <td>0</td>\n",
       "      <td>0.005177</td>\n",
       "      <td>0.994823</td>\n",
       "      <td>1</td>\n",
       "    </tr>\n",
       "    <tr>\n",
       "      <th>2</th>\n",
       "      <td>2</td>\n",
       "      <td>Scml2</td>\n",
       "      <td>0.000000</td>\n",
       "      <td>ATGGCAGAGCCTGCCACTGGAGTGCAACTTGCTGGTTCTGGAGAGC...</td>\n",
       "      <td>0.726407</td>\n",
       "      <td>ATG GCA GAG CCT GCC ACT GGA GTG CAA CTT GCT GG...</td>\n",
       "      <td>0.178997</td>\n",
       "      <td>0.804915</td>\n",
       "      <td>0.016088</td>\n",
       "      <td>1</td>\n",
       "      <td>0.003801</td>\n",
       "      <td>0.996199</td>\n",
       "      <td>1</td>\n",
       "    </tr>\n",
       "    <tr>\n",
       "      <th>3</th>\n",
       "      <td>3</td>\n",
       "      <td>Apoh</td>\n",
       "      <td>-2.302585</td>\n",
       "      <td>ATGGTTTCCCCGGTGCTCGCCTTGTTCTCCGCCTTCCTCTGCCATG...</td>\n",
       "      <td>0.768817</td>\n",
       "      <td>ATG GTT TCC CCG GTG CTC GCC TTG TTC TCC GCC TT...</td>\n",
       "      <td>0.994777</td>\n",
       "      <td>0.003869</td>\n",
       "      <td>0.001353</td>\n",
       "      <td>0</td>\n",
       "      <td>0.015304</td>\n",
       "      <td>0.984696</td>\n",
       "      <td>1</td>\n",
       "    </tr>\n",
       "    <tr>\n",
       "      <th>4</th>\n",
       "      <td>4</td>\n",
       "      <td>Narf</td>\n",
       "      <td>2.302585</td>\n",
       "      <td>ATGAAGTGTGAGCACTGCACACGAAAGGAATGTAGTAAAAAATCAA...</td>\n",
       "      <td>0.790900</td>\n",
       "      <td>ATG AAG TGT GAG CAC TGC ACA CGA AAG GAA TGT AG...</td>\n",
       "      <td>0.991135</td>\n",
       "      <td>0.007790</td>\n",
       "      <td>0.001074</td>\n",
       "      <td>0</td>\n",
       "      <td>0.005253</td>\n",
       "      <td>0.994747</td>\n",
       "      <td>1</td>\n",
       "    </tr>\n",
       "    <tr>\n",
       "      <th>...</th>\n",
       "      <td>...</td>\n",
       "      <td>...</td>\n",
       "      <td>...</td>\n",
       "      <td>...</td>\n",
       "      <td>...</td>\n",
       "      <td>...</td>\n",
       "      <td>...</td>\n",
       "      <td>...</td>\n",
       "      <td>...</td>\n",
       "      <td>...</td>\n",
       "      <td>...</td>\n",
       "      <td>...</td>\n",
       "      <td>...</td>\n",
       "    </tr>\n",
       "    <tr>\n",
       "      <th>70735</th>\n",
       "      <td>5031</td>\n",
       "      <td>OPT2</td>\n",
       "      <td>2.079442</td>\n",
       "      <td>ATGAGTGAAACAGTCAAAGATAAAGTTATAATTGATGAGAAGGTAT...</td>\n",
       "      <td>0.762819</td>\n",
       "      <td>ATG AGT GAA ACA GTC AAA GAT AAA GTT ATA ATT GA...</td>\n",
       "      <td>0.003637</td>\n",
       "      <td>0.996265</td>\n",
       "      <td>0.000097</td>\n",
       "      <td>1</td>\n",
       "      <td>0.005703</td>\n",
       "      <td>0.994297</td>\n",
       "      <td>1</td>\n",
       "    </tr>\n",
       "    <tr>\n",
       "      <th>70736</th>\n",
       "      <td>5032</td>\n",
       "      <td>SGE1</td>\n",
       "      <td>4.094345</td>\n",
       "      <td>ATGAAGAGTACTTTGAGTTTAACTTTATGTGTTATATCGCTTCTAT...</td>\n",
       "      <td>0.717415</td>\n",
       "      <td>ATG AAG AGT ACT TTG AGT TTA ACT TTA TGT GTT AT...</td>\n",
       "      <td>0.000543</td>\n",
       "      <td>0.999429</td>\n",
       "      <td>0.000028</td>\n",
       "      <td>1</td>\n",
       "      <td>0.999546</td>\n",
       "      <td>0.000454</td>\n",
       "      <td>0</td>\n",
       "    </tr>\n",
       "    <tr>\n",
       "      <th>70737</th>\n",
       "      <td>5033</td>\n",
       "      <td>ARR1</td>\n",
       "      <td>3.663562</td>\n",
       "      <td>ATGGCAAAACCGCGTGGAAGAAAAGGCGGCAGGAAGCCTTCACTTA...</td>\n",
       "      <td>0.702569</td>\n",
       "      <td>ATG GCA AAA CCG CGT GGA AGA AAA GGC GGC AGG AA...</td>\n",
       "      <td>0.004290</td>\n",
       "      <td>0.995237</td>\n",
       "      <td>0.000473</td>\n",
       "      <td>1</td>\n",
       "      <td>0.996156</td>\n",
       "      <td>0.003844</td>\n",
       "      <td>0</td>\n",
       "    </tr>\n",
       "    <tr>\n",
       "      <th>70738</th>\n",
       "      <td>5034</td>\n",
       "      <td>ARR2</td>\n",
       "      <td>2.564949</td>\n",
       "      <td>ATGGTAAGTTTCATAACGTCTAGGCAACTCAAGGGCCTAATTGAAA...</td>\n",
       "      <td>0.743733</td>\n",
       "      <td>ATG GTA AGT TTC ATA ACG TCT AGG CAA CTC AAG GG...</td>\n",
       "      <td>0.001369</td>\n",
       "      <td>0.998516</td>\n",
       "      <td>0.000114</td>\n",
       "      <td>1</td>\n",
       "      <td>0.000803</td>\n",
       "      <td>0.999197</td>\n",
       "      <td>1</td>\n",
       "    </tr>\n",
       "    <tr>\n",
       "      <th>70739</th>\n",
       "      <td>5035</td>\n",
       "      <td>ARR3</td>\n",
       "      <td>2.302585</td>\n",
       "      <td>ATGTCAGAAGATCAAAAAAGTGAAAATTCGGTACCTTCTAAGGTTA...</td>\n",
       "      <td>0.730102</td>\n",
       "      <td>ATG TCA GAA GAT CAA AAA AGT GAA AAT TCG GTA CC...</td>\n",
       "      <td>0.001470</td>\n",
       "      <td>0.998389</td>\n",
       "      <td>0.000141</td>\n",
       "      <td>1</td>\n",
       "      <td>0.994998</td>\n",
       "      <td>0.005002</td>\n",
       "      <td>0</td>\n",
       "    </tr>\n",
       "  </tbody>\n",
       "</table>\n",
       "<p>70740 rows × 13 columns</p>\n",
       "</div>"
      ],
      "text/plain": [
       "       Unnamed: 0 GeneName  median_exp  \\\n",
       "0               0    Gnai3    3.555348   \n",
       "1               1    Cdc45    0.371564   \n",
       "2               2    Scml2    0.000000   \n",
       "3               3     Apoh   -2.302585   \n",
       "4               4     Narf    2.302585   \n",
       "...           ...      ...         ...   \n",
       "70735        5031     OPT2    2.079442   \n",
       "70736        5032     SGE1    4.094345   \n",
       "70737        5033     ARR1    3.663562   \n",
       "70738        5034     ARR2    2.564949   \n",
       "70739        5035     ARR3    2.302585   \n",
       "\n",
       "                                                Sequence       CAI  \\\n",
       "0      ATGGGCTGCACGTTGAGCGCCGAGGACAAGGCGGCGGTGGAGCGGA...  0.741979   \n",
       "1      ATGTTCGTGACCGATTTCCGCAAGGAGTTCTACGAGACGGTCCACA...  0.769123   \n",
       "2      ATGGCAGAGCCTGCCACTGGAGTGCAACTTGCTGGTTCTGGAGAGC...  0.726407   \n",
       "3      ATGGTTTCCCCGGTGCTCGCCTTGTTCTCCGCCTTCCTCTGCCATG...  0.768817   \n",
       "4      ATGAAGTGTGAGCACTGCACACGAAAGGAATGTAGTAAAAAATCAA...  0.790900   \n",
       "...                                                  ...       ...   \n",
       "70735  ATGAGTGAAACAGTCAAAGATAAAGTTATAATTGATGAGAAGGTAT...  0.762819   \n",
       "70736  ATGAAGAGTACTTTGAGTTTAACTTTATGTGTTATATCGCTTCTAT...  0.717415   \n",
       "70737  ATGGCAAAACCGCGTGGAAGAAAAGGCGGCAGGAAGCCTTCACTTA...  0.702569   \n",
       "70738  ATGGTAAGTTTCATAACGTCTAGGCAACTCAAGGGCCTAATTGAAA...  0.743733   \n",
       "70739  ATGTCAGAAGATCAAAAAAGTGAAAATTCGGTACCTTCTAAGGTTA...  0.730102   \n",
       "\n",
       "                                          codons_cleaned  prob_0_multi  \\\n",
       "0      ATG GGC TGC ACG TTG AGC GCC GAG GAC AAG GCG GC...      0.999378   \n",
       "1      ATG TTC GTG ACC GAT TTC CGC AAG GAG TTC TAC GA...      0.813531   \n",
       "2      ATG GCA GAG CCT GCC ACT GGA GTG CAA CTT GCT GG...      0.178997   \n",
       "3      ATG GTT TCC CCG GTG CTC GCC TTG TTC TCC GCC TT...      0.994777   \n",
       "4      ATG AAG TGT GAG CAC TGC ACA CGA AAG GAA TGT AG...      0.991135   \n",
       "...                                                  ...           ...   \n",
       "70735  ATG AGT GAA ACA GTC AAA GAT AAA GTT ATA ATT GA...      0.003637   \n",
       "70736  ATG AAG AGT ACT TTG AGT TTA ACT TTA TGT GTT AT...      0.000543   \n",
       "70737  ATG GCA AAA CCG CGT GGA AGA AAA GGC GGC AGG AA...      0.004290   \n",
       "70738  ATG GTA AGT TTC ATA ACG TCT AGG CAA CTC AAG GG...      0.001369   \n",
       "70739  ATG TCA GAA GAT CAA AAA AGT GAA AAT TCG GTA CC...      0.001470   \n",
       "\n",
       "       prob_1_multi  prob_2_multi  pred_multi  prob_0_binary  prob_1_binary  \\\n",
       "0          0.000299      0.000323           0       0.006524       0.993476   \n",
       "1          0.069915      0.116554           0       0.005177       0.994823   \n",
       "2          0.804915      0.016088           1       0.003801       0.996199   \n",
       "3          0.003869      0.001353           0       0.015304       0.984696   \n",
       "4          0.007790      0.001074           0       0.005253       0.994747   \n",
       "...             ...           ...         ...            ...            ...   \n",
       "70735      0.996265      0.000097           1       0.005703       0.994297   \n",
       "70736      0.999429      0.000028           1       0.999546       0.000454   \n",
       "70737      0.995237      0.000473           1       0.996156       0.003844   \n",
       "70738      0.998516      0.000114           1       0.000803       0.999197   \n",
       "70739      0.998389      0.000141           1       0.994998       0.005002   \n",
       "\n",
       "       pred_binary  \n",
       "0                1  \n",
       "1                1  \n",
       "2                1  \n",
       "3                1  \n",
       "4                1  \n",
       "...            ...  \n",
       "70735            1  \n",
       "70736            0  \n",
       "70737            0  \n",
       "70738            1  \n",
       "70739            0  \n",
       "\n",
       "[70740 rows x 13 columns]"
      ]
     },
     "execution_count": 11,
     "metadata": {},
     "output_type": "execute_result"
    }
   ],
   "source": [
    "df"
   ]
  },
  {
   "cell_type": "code",
   "execution_count": 4,
   "id": "5a3f5bb9-d998-4fe0-8dc0-acd2b250bf93",
   "metadata": {
    "tags": []
   },
   "outputs": [
    {
     "ename": "NameError",
     "evalue": "name 'df' is not defined",
     "output_type": "error",
     "traceback": [
      "\u001b[0;31m---------------------------------------------------------------------------\u001b[0m",
      "\u001b[0;31mNameError\u001b[0m                                 Traceback (most recent call last)",
      "Cell \u001b[0;32mIn[4], line 1\u001b[0m\n\u001b[0;32m----> 1\u001b[0m \u001b[43mdf\u001b[49m\u001b[38;5;241m.\u001b[39mto_csv(\u001b[38;5;124m'\u001b[39m\u001b[38;5;124mfull.csv\u001b[39m\u001b[38;5;124m'\u001b[39m)\n",
      "\u001b[0;31mNameError\u001b[0m: name 'df' is not defined"
     ]
    }
   ],
   "source": [
    "df.to_csv('full.csv')"
   ]
  },
  {
   "cell_type": "code",
   "execution_count": 5,
   "id": "f3d959f8-2ba7-49a7-a93c-d23553ab5625",
   "metadata": {
    "tags": []
   },
   "outputs": [
    {
     "name": "stdout",
     "output_type": "stream",
     "text": [
      "Musmusculus_fulltable.csv\n",
      "Saccharomyces_Cerevisiae_s288c_fulltable.csv\n",
      "celegan_fulltable.csv\n",
      "atha_fulltable.csv\n",
      "ecoli_fulltable.csv\n",
      "Drosophila_Melanogaster_fulltable.csv\n",
      "yeasts288c_fulltable.csv\n"
     ]
    }
   ],
   "source": [
    "for file in filelist:\n",
    "    print(file)"
   ]
  },
  {
   "cell_type": "code",
   "execution_count": 7,
   "id": "0e1ed02b-d3d8-488c-a7f7-0b25dcaf559e",
   "metadata": {},
   "outputs": [],
   "source": [
    "df = pd.read_csv('./data/full.csv')\n",
    "df['actual_binary'] = np.where(df['median_exp'] > np.median(df['median_exp'].values), 1, 0)\n",
    "\n",
    "low, high = df.median_exp.quantile([0.33, 0.67])\n",
    "high_l = np.where(df['median_exp'] > high, 2, 0)\n",
    "low_l = np.where(df['median_exp'] > low, 0, 1)\n",
    "df['actual_multi'] = high_l+low_l"
   ]
  },
  {
   "cell_type": "code",
   "execution_count": 9,
   "id": "cd4d53ab-69c9-4f79-b410-49528e472520",
   "metadata": {
    "tags": []
   },
   "outputs": [
    {
     "name": "stdout",
     "output_type": "stream",
     "text": [
      "71820 70740\n"
     ]
    }
   ],
   "source": [
    "s = []\n",
    "for file, _df in zip(filelist, df_list):\n",
    "    species = file.partition('_')[0]\n",
    "    l = [species]*len(_df)\n",
    "    s.extend(l)\n",
    "    \n",
    "print(len(s), len(df))"
   ]
  },
  {
   "cell_type": "code",
   "execution_count": 10,
   "id": "d744b225-1042-40eb-a626-c33d66e895b5",
   "metadata": {
    "tags": []
   },
   "outputs": [],
   "source": [
    "df2 = pd.concat(df_list)\n",
    "df2['species'] = s"
   ]
  },
  {
   "cell_type": "code",
   "execution_count": 15,
   "id": "47565415-5030-4929-a5e5-2a96697f4371",
   "metadata": {
    "tags": []
   },
   "outputs": [
    {
     "data": {
      "text/plain": [
       "Index(['Unnamed: 0.1', 'Unnamed: 0', 'GeneName', 'median_exp', 'Sequence',\n",
       "       'CAI', 'codons_cleaned', 'prob_0_multi', 'prob_1_multi', 'prob_2_multi',\n",
       "       'pred_multi', 'prob_0_binary', 'prob_1_binary', 'pred_binary',\n",
       "       'actual_binary', 'actual_multi'],\n",
       "      dtype='object')"
      ]
     },
     "execution_count": 15,
     "metadata": {},
     "output_type": "execute_result"
    }
   ],
   "source": [
    "df.columns"
   ]
  },
  {
   "cell_type": "code",
   "execution_count": 24,
   "id": "30c227ec-7b5f-4bb6-9063-4e799973f07b",
   "metadata": {
    "tags": []
   },
   "outputs": [],
   "source": [
    "df = df.merge(df2, how='right', right_on='GeneName', left_on='GeneName')"
   ]
  },
  {
   "cell_type": "code",
   "execution_count": 49,
   "id": "80a59110-16b2-4196-a667-cdb9dba9f0c8",
   "metadata": {
    "tags": []
   },
   "outputs": [
    {
     "data": {
      "image/png": "[encoded data removed]",
      "text/plain": [
       "<Figure size 640x480 with 1 Axes>"
      ]
     },
     "metadata": {},
     "output_type": "display_data"
    }
   ],
   "source": [
    "import matplotlib.pyplot as plt\n",
    "\n",
    "a = df.loc[df['pred_multi'] == 0, 'CAI']\n",
    "b = df.loc[df['pred_multi'] == 1, 'CAI']\n",
    "c = df.loc[df['pred_multi'] == 2, 'CAI']\n",
    "\n",
    "plt.hist([b, a, c], bins=20, label=['low', 'medium', 'high'], color=['#068cf9', 'black', '#ff0051'])\n",
    "\n",
    "plt.legend(loc='upper left')\n",
    "plt.title('CAI Distribution by Multiclass Actual')\n",
    "plt.xlabel('CAI')\n",
    "plt.ylabel('Count per Distribution')\n",
    "\n",
    "plt.show()"
   ]
  },
  {
   "cell_type": "code",
   "execution_count": 26,
   "id": "6abd85f1-66bf-4ae6-a014-922fedadf761",
   "metadata": {},
   "outputs": [
    {
     "name": "stdout",
     "output_type": "stream",
     "text": [
      "Ttest_indResult(statistic=19.18376041689124, pvalue=0.0196078431372549)\n",
      "Ttest_indResult(statistic=-25.42028356801976, pvalue=0.0196078431372549)\n",
      "Ttest_indResult(statistic=-38.12474533910848, pvalue=0.0196078431372549)\n"
     ]
    }
   ],
   "source": [
    "from scipy.stats import ttest_ind\n",
    "\n",
    "print(ttest_ind(a, b, permutations=50, random_state=10))\n",
    "print(ttest_ind(a, c, permutations=50, random_state=10))\n",
    "print(ttest_ind(b, c, permutations=50, random_state=10))"
   ]
  },
  {
   "cell_type": "code",
   "execution_count": 28,
   "id": "15c5ca6d-83b3-4a99-990f-c007b839d1c6",
   "metadata": {
    "tags": []
   },
   "outputs": [
    {
     "name": "stdout",
     "output_type": "stream",
     "text": [
      "Drosophila\n",
      "Ttest_indResult(statistic=17.965736082032805, pvalue=0.0196078431372549)\n",
      "Ttest_indResult(statistic=-21.659006021740822, pvalue=0.0196078431372549)\n",
      "Ttest_indResult(statistic=-33.410832974834335, pvalue=0.0196078431372549)\n",
      "\n",
      "ecoli\n",
      "Ttest_indResult(statistic=-1.6496721255015356, pvalue=0.0784313725490196)\n",
      "Ttest_indResult(statistic=-4.325475435085102, pvalue=0.0196078431372549)\n",
      "Ttest_indResult(statistic=0.1853653222282944, pvalue=0.7450980392156863)\n",
      "\n",
      "celegan\n",
      "Ttest_indResult(statistic=2.4785540786183407, pvalue=0.0196078431372549)\n",
      "Ttest_indResult(statistic=-2.482572846292857, pvalue=0.0392156862745098)\n",
      "Ttest_indResult(statistic=-4.673022818414506, pvalue=0.0196078431372549)\n",
      "\n",
      "atha\n",
      "Ttest_indResult(statistic=4.0500800458391355, pvalue=0.0196078431372549)\n",
      "Ttest_indResult(statistic=5.357305683705957, pvalue=0.0196078431372549)\n",
      "Ttest_indResult(statistic=0.888758557997845, pvalue=0.49019607843137253)\n",
      "\n",
      "yeasts288c\n",
      "Ttest_indResult(statistic=-4.619645691073873, pvalue=0.0196078431372549)\n",
      "Ttest_indResult(statistic=-0.9889177180294002, pvalue=0.19607843137254902)\n",
      "Ttest_indResult(statistic=4.359617932061427, pvalue=0.0196078431372549)\n",
      "\n",
      "Saccharomyces\n",
      "Ttest_indResult(statistic=-4.300292524014537, pvalue=0.0196078431372549)\n",
      "Ttest_indResult(statistic=-1.01531638528476, pvalue=0.35294117647058826)\n",
      "Ttest_indResult(statistic=3.9735360166327642, pvalue=0.0196078431372549)\n",
      "\n",
      "Musmusculus\n",
      "Ttest_indResult(statistic=-7.34994827329402, pvalue=0.0196078431372549)\n",
      "Ttest_indResult(statistic=-10.968650036854946, pvalue=0.0196078431372549)\n",
      "Ttest_indResult(statistic=-6.7997181301937735, pvalue=0.0196078431372549)\n",
      "\n"
     ]
    }
   ],
   "source": [
    "for species in set(df['species']):\n",
    "    print(species)\n",
    "    _df = df[df['species'] == species]\n",
    "\n",
    "    a = _df.loc[_df['actual_multi'] == 0, 'CAI']\n",
    "    b = _df.loc[_df['actual_multi'] == 1, 'CAI']\n",
    "    c = _df.loc[_df['actual_multi'] == 2, 'CAI']\n",
    "\n",
    "    print(ttest_ind(a, b, permutations=50, random_state=10))\n",
    "    print(ttest_ind(a, c, permutations=50, random_state=10))\n",
    "    print(ttest_ind(b, c, permutations=50, random_state=10))\n",
    "    print()"
   ]
  },
  {
   "cell_type": "code",
   "execution_count": 47,
   "id": "acdce65d-b3e3-4e55-9d43-44ff1869c223",
   "metadata": {
    "tags": []
   },
   "outputs": [
    {
     "data": {
      "image/png": "[encoded data removed]",
      "text/plain": [
       "<Figure size 640x480 with 1 Axes>"
      ]
     },
     "metadata": {},
     "output_type": "display_data"
    }
   ],
   "source": [
    "a = df.loc[df['pred_multi'] == 0, 'CAI']\n",
    "b = df.loc[df['pred_multi'] == 1, 'CAI']\n",
    "\n",
    "plt.hist([a, b], bins=20, label=['low', 'high'], color=['#068cf9', '#ff0051'])\n",
    "plt.legend(loc='upper left')\n",
    "\n",
    "plt.title('CAI Dstribution Binary Actual')\n",
    "plt.xlabel('CAI')\n",
    "plt.ylabel('Count per Distribution')\n",
    "\n",
    "plt.show()"
   ]
  },
  {
   "cell_type": "code",
   "execution_count": 48,
   "id": "a072f40a-9a47-4df4-9fac-9ccf742e3db5",
   "metadata": {},
   "outputs": [
    {
     "data": {
      "text/plain": [
       "Ttest_indResult(statistic=0.1898998274999093, pvalue=0.8627450980392157)"
      ]
     },
     "execution_count": 48,
     "metadata": {},
     "output_type": "execute_result"
    }
   ],
   "source": [
    "from scipy.stats import ttest_ind\n",
    "\n",
    "ttest_ind(a, b, permutations=50, random_state=10)"
   ]
  },
  {
   "cell_type": "code",
   "execution_count": 31,
   "id": "e30c82d5-682d-4e95-aca2-95b5846d1d44",
   "metadata": {
    "tags": []
   },
   "outputs": [
    {
     "name": "stdout",
     "output_type": "stream",
     "text": [
      "Drosophila\n",
      "Ttest_indResult(statistic=-1.3056911419833501, pvalue=0.19607843137254902)\n",
      "\n",
      "ecoli\n",
      "Ttest_indResult(statistic=-1.3056911419833501, pvalue=0.19607843137254902)\n",
      "\n",
      "celegan\n",
      "Ttest_indResult(statistic=-1.3056911419833501, pvalue=0.19607843137254902)\n",
      "\n",
      "atha\n",
      "Ttest_indResult(statistic=-1.3056911419833501, pvalue=0.19607843137254902)\n",
      "\n",
      "yeasts288c\n",
      "Ttest_indResult(statistic=-1.3056911419833501, pvalue=0.19607843137254902)\n",
      "\n",
      "Saccharomyces\n",
      "Ttest_indResult(statistic=-1.3056911419833501, pvalue=0.19607843137254902)\n",
      "\n",
      "Musmusculus\n",
      "Ttest_indResult(statistic=-1.3056911419833501, pvalue=0.19607843137254902)\n",
      "\n"
     ]
    }
   ],
   "source": [
    "for species in set(df['species']):\n",
    "    print(species)\n",
    "    _df = df[df['species'] == species]\n",
    "    \n",
    "    a = df.loc[df['actual_multi'] == 0, 'CAI']\n",
    "    b = df.loc[df['actual_multi'] == 1, 'CAI']\n",
    "\n",
    "    print(ttest_ind(a, b, permutations=50, random_state=10))\n",
    "    print()"
   ]
  },
  {
   "cell_type": "code",
   "execution_count": 16,
   "id": "cd691e79-f8e5-4dbb-bd77-f647c8e5d52f",
   "metadata": {
    "tags": []
   },
   "outputs": [
    {
     "data": {
      "text/plain": [
       "<module 'helpers' from '/lustre/isaac/scratch/ababjac/codon-sentiment-score/helpers.py'>"
      ]
     },
     "execution_count": 16,
     "metadata": {},
     "output_type": "execute_result"
    }
   ],
   "source": [
    "import importlib\n",
    "importlib.reload(helpers)"
   ]
  },
  {
   "cell_type": "code",
   "execution_count": 22,
   "id": "b4d08e33-0438-4e1b-9ba5-543c30cb2f8a",
   "metadata": {
    "tags": []
   },
   "outputs": [],
   "source": [
    "df.to_csv('./cai.csv')"
   ]
  },
  {
   "cell_type": "code",
   "execution_count": 6,
   "id": "3c0c702a-664e-4843-a637-7d5a196d77d3",
   "metadata": {
    "tags": []
   },
   "outputs": [
    {
     "data": {
      "text/plain": [
       "0.5    2.014903\n",
       "Name: median_exp, dtype: float64"
      ]
     },
     "execution_count": 6,
     "metadata": {},
     "output_type": "execute_result"
    }
   ],
   "source": [
    "df.median_exp.quantile([0.5])"
   ]
  },
  {
   "cell_type": "code",
   "execution_count": 7,
   "id": "9e3bcc16-9907-4e33-bb20-8eebc745c0eb",
   "metadata": {
    "tags": []
   },
   "outputs": [
    {
     "data": {
      "image/png": "[encoded data removed]",
      "text/plain": [
       "<Figure size 640x480 with 1 Axes>"
      ]
     },
     "metadata": {},
     "output_type": "display_data"
    }
   ],
   "source": [
    "import matplotlib.pyplot as plt\n",
    "\n",
    "fig, ax = plt.subplots()\n",
    "N, bins, patches = ax.hist(df['median_exp'], edgecolor='white', linewidth=1, bins=20)\n",
    "\n",
    "for i in range(0,7):\n",
    "    patches[i].set_facecolor('#068cf9')\n",
    "# for i in range(5,9):    \n",
    "#     patches[i].set_facecolor('black')\n",
    "for i in range(7, len(patches)):\n",
    "    patches[i].set_facecolor('#ff0051')\n",
    "\n",
    "plt.title('Distribution of Median Expression')\n",
    "plt.xlabel('Log of Median Expression')\n",
    "plt.ylabel('Bin Count')\n",
    "plt.show()"
   ]
  }
 ],
 "metadata": {
  "kernelspec": {
   "display_name": "Python 3 (ipykernel)",
   "language": "python",
   "name": "python3"
  },
  "language_info": {
   "codemirror_mode": {
    "name": "ipython",
    "version": 3
   },
   "file_extension": ".py",
   "mimetype": "text/x-python",
   "name": "python",
   "nbconvert_exporter": "python",
   "pygments_lexer": "ipython3",
   "version": "3.9.10"
  }
 },
 "nbformat": 4,
 "nbformat_minor": 5
}
