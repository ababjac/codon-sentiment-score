{
 "cells": [
  {
   "cell_type": "code",
   "execution_count": 2,
   "id": "e7443fdc-fd21-466b-aabe-f6d4e08b9a43",
   "metadata": {},
   "outputs": [
    {
     "name": "stderr",
     "output_type": "stream",
     "text": [
      "2023-06-08 07:18:29.818697: I tensorflow/core/util/port.cc:110] oneDNN custom operations are on. You may see slightly different numerical results due to floating-point round-off errors from different computation orders. To turn them off, set the environment variable `TF_ENABLE_ONEDNN_OPTS=0`.\n",
      "2023-06-08 07:18:31.475121: I tensorflow/core/platform/cpu_feature_guard.cc:182] This TensorFlow binary is optimized to use available CPU instructions in performance-critical operations.\n",
      "To enable the following instructions: AVX2 AVX512F AVX512_VNNI FMA, in other operations, rebuild TensorFlow with the appropriate compiler flags.\n",
      "2023-06-08 07:18:32.471538: W tensorflow/compiler/tf2tensorrt/utils/py_utils.cc:38] TF-TRT Warning: Could not find TensorRT\n"
     ]
    }
   ],
   "source": [
    "import os\n",
    "import pandas as pd\n",
    "import numpy as np\n",
    "import helpers\n",
    "\n",
    "import transformers\n",
    "\n",
    "from transformers import (AutoTokenizer, \n",
    "                          AutoModelForSequenceClassification, \n",
    "                          TextClassificationPipeline)\n",
    "\n",
    "from sklearn.model_selection import train_test_split\n"
   ]
  },
  {
   "cell_type": "code",
   "execution_count": 3,
   "id": "7b9b50bb-73de-43de-ba6a-900b54bda161",
   "metadata": {
    "tags": []
   },
   "outputs": [],
   "source": [
    "df = pd.read_csv('./data/cub.csv', index_col=0)\n",
    "df = df[df['species'] == 'yeasts288c']"
   ]
  },
  {
   "cell_type": "code",
   "execution_count": 4,
   "id": "5eef3e54-8e81-40d6-9fdc-910a57822470",
   "metadata": {
    "tags": []
   },
   "outputs": [
    {
     "data": {
      "text/plain": [
       "Index(['GeneName', 'median_exp', 'Sequence', 'species', 'mlphi_est', 'CAI',\n",
       "       'codons_cleaned'],\n",
       "      dtype='object')"
      ]
     },
     "execution_count": 4,
     "metadata": {},
     "output_type": "execute_result"
    }
   ],
   "source": [
    "df = helpers.add_codons_to_df(df, 'Sequence')\n",
    "df.columns"
   ]
  },
  {
   "cell_type": "code",
   "execution_count": 5,
   "id": "11ab926d-4834-4cb9-bcd8-d05f5b0fbc73",
   "metadata": {
    "tags": []
   },
   "outputs": [],
   "source": [
    "df_train, df_test = train_test_split(df, test_size=0.2, random_state=1234)"
   ]
  },
  {
   "cell_type": "code",
   "execution_count": 6,
   "id": "ec9aff03-54d2-482e-9215-f7b747c1a097",
   "metadata": {
    "tags": []
   },
   "outputs": [],
   "source": [
    "l = []\n",
    "\n",
    "with open('./results/codonBERT_reg_output_yeasts288c-nopre.txt', 'r') as file:\n",
    "    lines = file.readlines()\n",
    "    \n",
    "    for line in lines:\n",
    "        l.append(float(line[1:-2]))\n",
    "        \n",
    "df_test['BERT-CUB'] = l"
   ]
  },
  {
   "cell_type": "code",
   "execution_count": 7,
   "id": "8a901da1-9c2a-4190-b835-153409aa504f",
   "metadata": {
    "tags": []
   },
   "outputs": [
    {
     "name": "stderr",
     "output_type": "stream",
     "text": [
      "/lustre/isaac/scratch/ababjac/pyvenv/lib/python3.9/site-packages/transformers/pipelines/text_classification.py:104: UserWarning: `return_all_scores` is now deprecated,  if want a similar funcionality use `top_k=None` instead of `return_all_scores=True` or `top_k=1` instead of `return_all_scores=False`.\n",
      "  warnings.warn(\n"
     ]
    }
   ],
   "source": [
    "tokenizer_name = \"./tokenizers/codonBERT\"\n",
    "model_name = \"./models/codonBERT-binary-large_1/checkpoint-127330\"\n",
    "\n",
    "tokenizer = AutoTokenizer.from_pretrained(tokenizer_name, token_type_ids=False, truncation=True, padding=True)\n",
    "model = AutoModelForSequenceClassification.from_pretrained(model_name).cpu()\n",
    "\n",
    "pipe = TextClassificationPipeline(model=model, tokenizer=tokenizer, return_all_scores=True)"
   ]
  },
  {
   "cell_type": "code",
   "execution_count": 8,
   "id": "db286d70-87f6-4e9b-97bc-7b91bd0c4241",
   "metadata": {
    "tags": []
   },
   "outputs": [
    {
     "name": "stdout",
     "output_type": "stream",
     "text": [
      "0\n",
      "100\n",
      "200\n",
      "300\n",
      "400\n",
      "500\n",
      "600\n",
      "700\n",
      "800\n",
      "900\n",
      "1000\n"
     ]
    }
   ],
   "source": [
    "prob_0 = []\n",
    "prob_1 = []\n",
    "prob_2 = []\n",
    "pred_label = []\n",
    "\n",
    "count = 0\n",
    "\n",
    "for elem in df_test['codons_cleaned']:\n",
    "    \n",
    "    if count % 100 == 0:\n",
    "        print(count)\n",
    "    \n",
    "    count += 1\n",
    "    \n",
    "    if len(elem) > 1024:\n",
    "        elem = elem[:1024]\n",
    "    \n",
    "    prediction = pipe([elem])\n",
    "    pred = prediction[0]\n",
    "    prob_0.append(pred[0]['score'])\n",
    "    prob_1.append(pred[1]['score'])\n",
    "    \n",
    "    MAX = max([prob_0[-1], prob_1[-1]])\n",
    "    \n",
    "    if prob_0[-1] == MAX:\n",
    "        pred_label.append(0)\n",
    "    else:\n",
    "        pred_label.append(1)\n",
    "        \n",
    "df_test['prob_0_binary'] = prob_0\n",
    "df_test['prob_1_binary'] = prob_1\n",
    "df_test['pred_binary'] = pred_label"
   ]
  },
  {
   "cell_type": "code",
   "execution_count": 9,
   "id": "795cf4b2-c2b9-41c7-8c5e-cf4caa49ca5f",
   "metadata": {
    "tags": []
   },
   "outputs": [
    {
     "name": "stderr",
     "output_type": "stream",
     "text": [
      "/lustre/isaac/scratch/ababjac/pyvenv/lib/python3.9/site-packages/transformers/pipelines/text_classification.py:104: UserWarning: `return_all_scores` is now deprecated,  if want a similar funcionality use `top_k=None` instead of `return_all_scores=True` or `top_k=1` instead of `return_all_scores=False`.\n",
      "  warnings.warn(\n"
     ]
    }
   ],
   "source": [
    "tokenizer_name = \"./tokenizers/codonBERT\"\n",
    "model_name = \"./models/codonBERT-multi-large_1/checkpoint-127330\"\n",
    "\n",
    "tokenizer = AutoTokenizer.from_pretrained(tokenizer_name, token_type_ids=False, truncation=True, padding=True)\n",
    "model = AutoModelForSequenceClassification.from_pretrained(model_name).cpu()\n",
    "\n",
    "pipe = TextClassificationPipeline(model=model, tokenizer=tokenizer, return_all_scores=True)"
   ]
  },
  {
   "cell_type": "code",
   "execution_count": 10,
   "id": "d8809343-7d9b-4eea-93d3-7ecc83fc42a5",
   "metadata": {
    "tags": []
   },
   "outputs": [
    {
     "name": "stdout",
     "output_type": "stream",
     "text": [
      "0\n",
      "100\n",
      "200\n",
      "300\n",
      "400\n",
      "500\n",
      "600\n",
      "700\n",
      "800\n",
      "900\n",
      "1000\n"
     ]
    }
   ],
   "source": [
    "prob_0 = []\n",
    "prob_1 = []\n",
    "prob_2 = []\n",
    "pred_label = []\n",
    "\n",
    "count = 0\n",
    "\n",
    "for elem in df_test['codons_cleaned']:\n",
    "    \n",
    "    if count % 100 == 0:\n",
    "        print(count)\n",
    "    \n",
    "    count += 1\n",
    "    \n",
    "    if len(elem) > 1024:\n",
    "        elem = elem[:1024]\n",
    "    \n",
    "    prediction = pipe([elem])\n",
    "    pred = prediction[0]\n",
    "    prob_0.append(pred[0]['score'])\n",
    "    prob_1.append(pred[1]['score'])\n",
    "    prob_2.append(pred[2]['score'])\n",
    "    \n",
    "    MAX = max([prob_0[-1], prob_1[-1], prob_2[-1]])\n",
    "    \n",
    "    if prob_0[-1] == MAX:\n",
    "        pred_label.append(0)\n",
    "    elif prob_1[-1] == MAX:\n",
    "        pred_label.append(1)\n",
    "    else:\n",
    "        pred_label.append(2)\n",
    "\n",
    "        \n",
    "df_test['prob_0_multi'] = prob_0\n",
    "df_test['prob_1_multi'] = prob_1\n",
    "df_test['prob_2_multi'] = prob_2\n",
    "df_test['pred_multi'] = pred_label"
   ]
  },
  {
   "cell_type": "code",
   "execution_count": 11,
   "id": "0e1ed02b-d3d8-488c-a7f7-0b25dcaf559e",
   "metadata": {},
   "outputs": [],
   "source": [
    "df_test['actual_binary'] = np.where(df_test['median_exp'] > np.median(df['median_exp'].values), 1, 0)\n",
    "\n",
    "low, high = df.median_exp.quantile([0.33, 0.67])\n",
    "high_l = np.where(df_test['median_exp'] > high, 2, 0)\n",
    "low_l = np.where(df_test['median_exp'] > low, 0, 1)\n",
    "df_test['actual_multi'] = high_l+low_l"
   ]
  },
  {
   "cell_type": "code",
   "execution_count": 12,
   "id": "48d9ecd9-393f-4894-b2db-aa97f836bdeb",
   "metadata": {
    "tags": []
   },
   "outputs": [],
   "source": [
    "df_test['log_median_exp'] = np.log(df_test['median_exp'])"
   ]
  },
  {
   "cell_type": "code",
   "execution_count": 13,
   "id": "80a59110-16b2-4196-a667-cdb9dba9f0c8",
   "metadata": {
    "tags": []
   },
   "outputs": [
    {
     "data": {
      "image/png": "[encoded data removed]",
      "text/plain": [
       "<Figure size 640x480 with 1 Axes>"
      ]
     },
     "metadata": {},
     "output_type": "display_data"
    }
   ],
   "source": [
    "import matplotlib.pyplot as plt\n",
    "\n",
    "a = df_test.loc[df_test['pred_multi'] == 0, 'log_median_exp']\n",
    "b = df_test.loc[df_test['pred_multi'] == 1, 'log_median_exp']\n",
    "c = df_test.loc[df_test['pred_multi'] == 2, 'log_median_exp']\n",
    "\n",
    "plt.hist([b, a, c], bins=20, label=['low', 'medium', 'high'], color=['#068cf9', '#a41daa', '#ff0051'])\n",
    "\n",
    "plt.legend(loc='upper left')\n",
    "plt.title('Yeast Expression Distribution Multiclass')\n",
    "plt.xlabel('Median Expression (log)')\n",
    "plt.ylabel('Count per Distribution')\n",
    "\n",
    "plt.show()"
   ]
  },
  {
   "cell_type": "code",
   "execution_count": 14,
   "id": "6abd85f1-66bf-4ae6-a014-922fedadf761",
   "metadata": {},
   "outputs": [
    {
     "name": "stdout",
     "output_type": "stream",
     "text": [
      "Ttest_indResult(statistic=0.8837808829369758, pvalue=0.4117647058823529)\n",
      "Ttest_indResult(statistic=-8.126677036661313, pvalue=0.0196078431372549)\n",
      "Ttest_indResult(statistic=-5.329386868492606, pvalue=0.0196078431372549)\n"
     ]
    }
   ],
   "source": [
    "from scipy.stats import ttest_ind\n",
    "\n",
    "print(ttest_ind(a, b, permutations=50, random_state=10))\n",
    "print(ttest_ind(a, c, permutations=50, random_state=10))\n",
    "print(ttest_ind(b, c, permutations=50, random_state=10))"
   ]
  },
  {
   "cell_type": "code",
   "execution_count": 15,
   "id": "15c5ca6d-83b3-4a99-990f-c007b839d1c6",
   "metadata": {
    "tags": []
   },
   "outputs": [],
   "source": [
    "# for species in set(df['species']):\n",
    "#     print(species)\n",
    "#     _df = df[df['species'] == species]\n",
    "\n",
    "#     a = _df.loc[_df['actual_multi'] == 0, 'CAI']\n",
    "#     b = _df.loc[_df['actual_multi'] == 1, 'CAI']\n",
    "#     c = _df.loc[_df['actual_multi'] == 2, 'CAI']\n",
    "\n",
    "#     print(ttest_ind(a, b, permutations=50, random_state=10))\n",
    "#     print(ttest_ind(a, c, permutations=50, random_state=10))\n",
    "#     print(ttest_ind(b, c, permutations=50, random_state=10))\n",
    "#     print()"
   ]
  },
  {
   "cell_type": "code",
   "execution_count": 16,
   "id": "acdce65d-b3e3-4e55-9d43-44ff1869c223",
   "metadata": {
    "tags": []
   },
   "outputs": [
    {
     "data": {
      "image/png": "[encoded data removed]",
      "text/plain": [
       "<Figure size 640x480 with 1 Axes>"
      ]
     },
     "metadata": {},
     "output_type": "display_data"
    }
   ],
   "source": [
    "a = df_test.loc[df_test['pred_binary'] == 0, 'log_median_exp']\n",
    "b = df_test.loc[df_test['pred_binary'] == 1, 'log_median_exp']\n",
    "\n",
    "plt.hist([a, b], bins=20, label=['low', 'high'], color=['#068cf9', '#ff0051'])\n",
    "plt.legend(loc='upper left')\n",
    "\n",
    "plt.title('Yeast Expression Distribution Binary')\n",
    "plt.xlabel('Median Expression (log)')\n",
    "plt.ylabel('Count per Distribution')\n",
    "\n",
    "plt.show()"
   ]
  },
  {
   "cell_type": "code",
   "execution_count": 17,
   "id": "a072f40a-9a47-4df4-9fac-9ccf742e3db5",
   "metadata": {},
   "outputs": [
    {
     "data": {
      "text/plain": [
       "Ttest_indResult(statistic=-4.355589767754597, pvalue=0.0196078431372549)"
      ]
     },
     "execution_count": 17,
     "metadata": {},
     "output_type": "execute_result"
    }
   ],
   "source": [
    "from scipy.stats import ttest_ind\n",
    "\n",
    "ttest_ind(a, b, permutations=50, random_state=10)"
   ]
  },
  {
   "cell_type": "code",
   "execution_count": 18,
   "id": "e30c82d5-682d-4e95-aca2-95b5846d1d44",
   "metadata": {
    "tags": []
   },
   "outputs": [],
   "source": [
    "# for species in set(df['species']):\n",
    "#     print(species)\n",
    "#     _df = df[df['species'] == species]\n",
    "    \n",
    "#     a = df.loc[df['actual_multi'] == 0, 'CAI']\n",
    "#     b = df.loc[df['actual_multi'] == 1, 'CAI']\n",
    "\n",
    "#     print(ttest_ind(a, b, permutations=50, random_state=10))\n",
    "#     print()"
   ]
  }
 ],
 "metadata": {
  "kernelspec": {
   "display_name": "Python 3 (ipykernel)",
   "language": "python",
   "name": "python3"
  },
  "language_info": {
   "codemirror_mode": {
    "name": "ipython",
    "version": 3
   },
   "file_extension": ".py",
   "mimetype": "text/x-python",
   "name": "python",
   "nbconvert_exporter": "python",
   "pygments_lexer": "ipython3",
   "version": "3.9.10"
  }
 },
 "nbformat": 4,
 "nbformat_minor": 5
}
