{
 "cells": [
  {
   "cell_type": "code",
   "execution_count": 1,
   "id": "7f15ec52-5086-48a9-aac4-aa843ad340bf",
   "metadata": {},
   "outputs": [
    {
     "name": "stderr",
     "output_type": "stream",
     "text": [
      "2023-05-30 07:35:49.626167: I tensorflow/core/util/port.cc:110] oneDNN custom operations are on. You may see slightly different numerical results due to floating-point round-off errors from different computation orders. To turn them off, set the environment variable `TF_ENABLE_ONEDNN_OPTS=0`.\n",
      "2023-05-30 07:36:03.450263: I tensorflow/core/platform/cpu_feature_guard.cc:182] This TensorFlow binary is optimized to use available CPU instructions in performance-critical operations.\n",
      "To enable the following instructions: AVX2 AVX512F AVX512_VNNI FMA, in other operations, rebuild TensorFlow with the appropriate compiler flags.\n",
      "2023-05-30 07:36:28.377993: W tensorflow/compiler/tf2tensorrt/utils/py_utils.cc:38] TF-TRT Warning: Could not find TensorRT\n"
     ]
    }
   ],
   "source": [
    "import pandas as pd\n",
    "import numpy as np\n",
    "import torch\n",
    "import pickle\n",
    "import os\n",
    "import gc\n",
    "import helpers\n",
    "\n",
    "from tensorflow.keras.metrics import SparseCategoricalAccuracy\n",
    "from tensorflow.nn import softmax\n",
    "from datasets import Dataset\n",
    "from transformers import AutoTokenizer, AutoModelForSequenceClassification, TrainingArguments, Trainer, AutoConfig\n",
    "from sklearn.metrics import roc_auc_score, average_precision_score, recall_score, accuracy_score, precision_score, multilabel_confusion_matrix\n",
    "from sklearn.model_selection import train_test_split"
   ]
  },
  {
   "cell_type": "code",
   "execution_count": 2,
   "id": "d7816c2e-0c38-41bb-86dc-e8bd22332440",
   "metadata": {},
   "outputs": [],
   "source": [
    "PATH='/lustre/isaac/proj/UTK0196/codon-expression-data/fullTableForTrainning/'\n",
    "RUN=1\n",
    "os.environ[\"PYTORCH_CUDA_ALLOC_CONF\"] = \"max_split_size_mb:128\""
   ]
  },
  {
   "cell_type": "code",
   "execution_count": 3,
   "id": "a5c03270-8f7e-4889-8a8c-591701323d21",
   "metadata": {},
   "outputs": [],
   "source": [
    "def compute_metrics(epred):\n",
    "    # Computes metrics from specialized output from huggingface\n",
    "    logits = epred[0]\n",
    "    probs = softmax(logits)\n",
    "    preds = np.argmax(logits, axis=-1)\n",
    "    labels = epred[1]\n",
    "\n",
    "    metrics = {}\n",
    "    #metrics['auprc'] = average_precision_score(labels, preds[:,1])\n",
    "    metrics['auroc'] = roc_auc_score(labels, probs, multi_class='ovr', average='micro')\n",
    "    metrics['accuracy'] = SparseCategoricalAccuracy()(labels, logits)\n",
    "    metrics['precision'] = precision_score(labels, preds, average='micro')\n",
    "    metrics['recall'] = recall_score(labels, preds, average='micro')\n",
    "        \n",
    "    return metrics"
   ]
  },
  {
   "cell_type": "code",
   "execution_count": 4,
   "id": "45bb5674-c74a-4b12-b3c5-c58b08c074da",
   "metadata": {},
   "outputs": [
    {
     "name": "stdout",
     "output_type": "stream",
     "text": [
      "Reading data...\n"
     ]
    },
    {
     "name": "stderr",
     "output_type": "stream",
     "text": [
      "/lustre/isaac/scratch/ababjac/codon-sentiment-score/bert-scripts/helpers.py:53: SettingWithCopyWarning: \n",
      "A value is trying to be set on a copy of a slice from a DataFrame.\n",
      "Try using .loc[row_indexer,col_indexer] = value instead\n",
      "\n",
      "See the caveats in the documentation: https://pandas.pydata.org/pandas-docs/stable/user_guide/indexing.html#returning-a-view-versus-a-copy\n",
      "  df['codons_cleaned'] = get_codon_list(df[col])\n"
     ]
    }
   ],
   "source": [
    "print('Reading data...')\n",
    "filelist = os.listdir(PATH) \n",
    "df_list = [pd.read_csv(PATH+file) for file in filelist]\n",
    "df = pd.concat(df_list)\n",
    "\n",
    "df = helpers.add_codons_to_df(df, 'Sequence')\n",
    "low, high = df.median_exp.quantile([0.33, 0.67])\n",
    "high_l = np.where(df['median_exp'] > high, 2, 0)\n",
    "low_l = np.where(df['median_exp'] > low, 0, 1)\n",
    "labels = high_l+low_l"
   ]
  },
  {
   "cell_type": "code",
   "execution_count": 22,
   "id": "bb22dc8b-0bbc-40ef-a241-35225231240f",
   "metadata": {
    "tags": []
   },
   "outputs": [],
   "source": [
    "classification_df = pd.DataFrame({'text' : df['codons_cleaned'], 'label' : labels})\n",
    "#MAX = int(max([(len(elem) / 3) for elem in df['codons_cleaned']])) #get max sequence length for padding\n",
    "#MED = int(np.median([(len(elem) / 3) for elem in df['codons_cleaned']])) #get median sequence length for padding\n",
    "\n",
    "#trunc_len = int((MAX + MED) / 2) #set truncation somewhere between max and median\n",
    "trunc_len=1024\n",
    "\n",
    "df_train, df_test = train_test_split(classification_df, test_size=0.001, random_state=1234)\n",
    "df_train, df_val = train_test_split(df_train, test_size=0.1, random_state=1234)"
   ]
  },
  {
   "cell_type": "code",
   "execution_count": 24,
   "id": "a6696223-14a5-4e2d-b80e-530875103a41",
   "metadata": {
    "tags": []
   },
   "outputs": [],
   "source": [
    "cai_df = pd.read_csv('../data/full.csv')"
   ]
  },
  {
   "cell_type": "code",
   "execution_count": 52,
   "id": "9f8dcb44-89a7-4c8d-bd16-18349dfe4806",
   "metadata": {
    "tags": []
   },
   "outputs": [
    {
     "data": {
      "text/html": [
       "<div>\n",
       "<style scoped>\n",
       "    .dataframe tbody tr th:only-of-type {\n",
       "        vertical-align: middle;\n",
       "    }\n",
       "\n",
       "    .dataframe tbody tr th {\n",
       "        vertical-align: top;\n",
       "    }\n",
       "\n",
       "    .dataframe thead th {\n",
       "        text-align: right;\n",
       "    }\n",
       "</style>\n",
       "<table border=\"1\" class=\"dataframe\">\n",
       "  <thead>\n",
       "    <tr style=\"text-align: right;\">\n",
       "      <th></th>\n",
       "      <th>Unnamed: 0</th>\n",
       "      <th>GeneName</th>\n",
       "      <th>median_exp</th>\n",
       "      <th>Sequence</th>\n",
       "      <th>CAI</th>\n",
       "      <th>codons_cleaned</th>\n",
       "    </tr>\n",
       "    <tr>\n",
       "      <th>Unnamed: 0</th>\n",
       "      <th></th>\n",
       "      <th></th>\n",
       "      <th></th>\n",
       "      <th></th>\n",
       "      <th></th>\n",
       "      <th></th>\n",
       "    </tr>\n",
       "  </thead>\n",
       "  <tbody>\n",
       "    <tr>\n",
       "      <th>6994</th>\n",
       "      <td>6994</td>\n",
       "      <td>Prdm5</td>\n",
       "      <td>-0.223144</td>\n",
       "      <td>ATGCTGGGCATGTACGTACCAGACAGGTTCGCCCTGAAGTCGTCCC...</td>\n",
       "      <td>0.796349</td>\n",
       "      <td>ATG CTG GGC ATG TAC GTA CCA GAC AGG TTC GCC CT...</td>\n",
       "    </tr>\n",
       "    <tr>\n",
       "      <th>6523</th>\n",
       "      <td>6523</td>\n",
       "      <td>Rbp7</td>\n",
       "      <td>-1.609438</td>\n",
       "      <td>ATGTTCTTCACCTTTATTTATAATTGTATGAGGAACAGAGCTCTTA...</td>\n",
       "      <td>0.789064</td>\n",
       "      <td>ATG TTC TTC ACC TTT ATT TAT AAT TGT ATG AGG AA...</td>\n",
       "    </tr>\n",
       "    <tr>\n",
       "      <th>5971</th>\n",
       "      <td>5971</td>\n",
       "      <td>Tbck</td>\n",
       "      <td>1.098612</td>\n",
       "      <td>ATGTTTCCTCTGAAGGATGCTGAGATGGGCGCCTTTACCTTCTTTG...</td>\n",
       "      <td>0.732794</td>\n",
       "      <td>ATG TTT CCT CTG AAG GAT GCT GAG ATG GGC GCC TT...</td>\n",
       "    </tr>\n",
       "    <tr>\n",
       "      <th>2912</th>\n",
       "      <td>2912</td>\n",
       "      <td>F12</td>\n",
       "      <td>-2.302585</td>\n",
       "      <td>ATGACGGCTCTGTTGTTCCTGGGGTCTCTGCTGATGAGTCTGGATC...</td>\n",
       "      <td>0.798914</td>\n",
       "      <td>ATG ACG GCT CTG TTG TTC CTG GGG TCT CTG CTG AT...</td>\n",
       "    </tr>\n",
       "    <tr>\n",
       "      <th>11213</th>\n",
       "      <td>11214</td>\n",
       "      <td>Zmiz2</td>\n",
       "      <td>3.384390</td>\n",
       "      <td>ATGAACCCCATGAACCCCATGAAACCCGCCCTGCCCCCTGCACCAC...</td>\n",
       "      <td>0.818182</td>\n",
       "      <td>ATG AAC CCC ATG AAC CCC ATG AAA CCC GCC CTG CC...</td>\n",
       "    </tr>\n",
       "    <tr>\n",
       "      <th>...</th>\n",
       "      <td>...</td>\n",
       "      <td>...</td>\n",
       "      <td>...</td>\n",
       "      <td>...</td>\n",
       "      <td>...</td>\n",
       "      <td>...</td>\n",
       "    </tr>\n",
       "    <tr>\n",
       "      <th>8639</th>\n",
       "      <td>8639</td>\n",
       "      <td>Cacul1</td>\n",
       "      <td>2.140066</td>\n",
       "      <td>ATGGAGGAGAGCATGGAGGAGGAGGAAATGCTCACCTACGAGGCAA...</td>\n",
       "      <td>0.718289</td>\n",
       "      <td>ATG GAG GAG AGC ATG GAG GAG GAG GAA ATG CTC AC...</td>\n",
       "    </tr>\n",
       "    <tr>\n",
       "      <th>1939</th>\n",
       "      <td>1939</td>\n",
       "      <td>Gdpd2</td>\n",
       "      <td>0.693147</td>\n",
       "      <td>ATGGCAGATTCCCCCGGCTGCTGCTCCATCTGGGCCCGCTGCCTCC...</td>\n",
       "      <td>0.765615</td>\n",
       "      <td>ATG GCA GAT TCC CCC GGC TGC TGC TCC ATC TGG GC...</td>\n",
       "    </tr>\n",
       "    <tr>\n",
       "      <th>1450</th>\n",
       "      <td>1450</td>\n",
       "      <td>Clic3</td>\n",
       "      <td>0.405465</td>\n",
       "      <td>ATGGCTGAAACCACCAAGCTCCAGCTCTTTGTGAAGGCCAGTGAGG...</td>\n",
       "      <td>0.809279</td>\n",
       "      <td>ATG GCT GAA ACC ACC AAG CTC CAG CTC TTT GTG AA...</td>\n",
       "    </tr>\n",
       "    <tr>\n",
       "      <th>9706</th>\n",
       "      <td>9706</td>\n",
       "      <td>C1qc</td>\n",
       "      <td>1.609438</td>\n",
       "      <td>ATGGTCGTTGGACCCAGTTGCCAGCCTCCATGTGGACTTTGCCTGC...</td>\n",
       "      <td>0.810020</td>\n",
       "      <td>ATG GTC GTT GGA CCC AGT TGC CAG CCT CCA TGT GG...</td>\n",
       "    </tr>\n",
       "    <tr>\n",
       "      <th>1762</th>\n",
       "      <td>1762</td>\n",
       "      <td>Zcchc10</td>\n",
       "      <td>1.504077</td>\n",
       "      <td>ATGGCGACTCCCATGCATCGGCTCATAGCTCGAAGGAAAGCTGAAG...</td>\n",
       "      <td>0.730155</td>\n",
       "      <td>ATG GCG ACT CCC ATG CAT CGG CTC ATA GCT CGA AG...</td>\n",
       "    </tr>\n",
       "  </tbody>\n",
       "</table>\n",
       "<p>71 rows × 6 columns</p>\n",
       "</div>"
      ],
      "text/plain": [
       "            Unnamed: 0 GeneName  median_exp  \\\n",
       "Unnamed: 0                                    \n",
       "6994              6994    Prdm5   -0.223144   \n",
       "6523              6523     Rbp7   -1.609438   \n",
       "5971              5971     Tbck    1.098612   \n",
       "2912              2912      F12   -2.302585   \n",
       "11213            11214    Zmiz2    3.384390   \n",
       "...                ...      ...         ...   \n",
       "8639              8639   Cacul1    2.140066   \n",
       "1939              1939    Gdpd2    0.693147   \n",
       "1450              1450    Clic3    0.405465   \n",
       "9706              9706     C1qc    1.609438   \n",
       "1762              1762  Zcchc10    1.504077   \n",
       "\n",
       "                                                     Sequence       CAI  \\\n",
       "Unnamed: 0                                                                \n",
       "6994        ATGCTGGGCATGTACGTACCAGACAGGTTCGCCCTGAAGTCGTCCC...  0.796349   \n",
       "6523        ATGTTCTTCACCTTTATTTATAATTGTATGAGGAACAGAGCTCTTA...  0.789064   \n",
       "5971        ATGTTTCCTCTGAAGGATGCTGAGATGGGCGCCTTTACCTTCTTTG...  0.732794   \n",
       "2912        ATGACGGCTCTGTTGTTCCTGGGGTCTCTGCTGATGAGTCTGGATC...  0.798914   \n",
       "11213       ATGAACCCCATGAACCCCATGAAACCCGCCCTGCCCCCTGCACCAC...  0.818182   \n",
       "...                                                       ...       ...   \n",
       "8639        ATGGAGGAGAGCATGGAGGAGGAGGAAATGCTCACCTACGAGGCAA...  0.718289   \n",
       "1939        ATGGCAGATTCCCCCGGCTGCTGCTCCATCTGGGCCCGCTGCCTCC...  0.765615   \n",
       "1450        ATGGCTGAAACCACCAAGCTCCAGCTCTTTGTGAAGGCCAGTGAGG...  0.809279   \n",
       "9706        ATGGTCGTTGGACCCAGTTGCCAGCCTCCATGTGGACTTTGCCTGC...  0.810020   \n",
       "1762        ATGGCGACTCCCATGCATCGGCTCATAGCTCGAAGGAAAGCTGAAG...  0.730155   \n",
       "\n",
       "                                               codons_cleaned  \n",
       "Unnamed: 0                                                     \n",
       "6994        ATG CTG GGC ATG TAC GTA CCA GAC AGG TTC GCC CT...  \n",
       "6523        ATG TTC TTC ACC TTT ATT TAT AAT TGT ATG AGG AA...  \n",
       "5971        ATG TTT CCT CTG AAG GAT GCT GAG ATG GGC GCC TT...  \n",
       "2912        ATG ACG GCT CTG TTG TTC CTG GGG TCT CTG CTG AT...  \n",
       "11213       ATG AAC CCC ATG AAC CCC ATG AAA CCC GCC CTG CC...  \n",
       "...                                                       ...  \n",
       "8639        ATG GAG GAG AGC ATG GAG GAG GAG GAA ATG CTC AC...  \n",
       "1939        ATG GCA GAT TCC CCC GGC TGC TGC TCC ATC TGG GC...  \n",
       "1450        ATG GCT GAA ACC ACC AAG CTC CAG CTC TTT GTG AA...  \n",
       "9706        ATG GTC GTT GGA CCC AGT TGC CAG CCT CCA TGT GG...  \n",
       "1762        ATG GCG ACT CCC ATG CAT CGG CTC ATA GCT CGA AG...  \n",
       "\n",
       "[71 rows x 6 columns]"
      ]
     },
     "execution_count": 52,
     "metadata": {},
     "output_type": "execute_result"
    }
   ],
   "source": [
    "cai_test = cai.iloc[df_test.index]\n",
    "cai_test"
   ]
  },
  {
   "cell_type": "code",
   "execution_count": 5,
   "id": "553f9bb4-9883-48ff-a861-3f33576cd984",
   "metadata": {},
   "outputs": [
    {
     "name": "stdout",
     "output_type": "stream",
     "text": [
      "Tokenizing...\n"
     ]
    },
    {
     "data": {
      "application/vnd.jupyter.widget-view+json": {
       "model_id": "",
       "version_major": 2,
       "version_minor": 0
      },
      "text/plain": [
       "Map:   0%|          | 0/63603 [00:00<?, ? examples/s]"
      ]
     },
     "metadata": {},
     "output_type": "display_data"
    },
    {
     "data": {
      "application/vnd.jupyter.widget-view+json": {
       "model_id": "",
       "version_major": 2,
       "version_minor": 0
      },
      "text/plain": [
       "Map:   0%|          | 0/7067 [00:00<?, ? examples/s]"
      ]
     },
     "metadata": {},
     "output_type": "display_data"
    },
    {
     "data": {
      "application/vnd.jupyter.widget-view+json": {
       "model_id": "",
       "version_major": 2,
       "version_minor": 0
      },
      "text/plain": [
       "Map:   0%|          | 0/71 [00:00<?, ? examples/s]"
      ]
     },
     "metadata": {},
     "output_type": "display_data"
    }
   ],
   "source": [
    "classification_df = pd.DataFrame({'text' : df['codons_cleaned'], 'label' : labels})\n",
    "#MAX = int(max([(len(elem) / 3) for elem in df['codons_cleaned']])) #get max sequence length for padding\n",
    "#MED = int(np.median([(len(elem) / 3) for elem in df['codons_cleaned']])) #get median sequence length for padding\n",
    "\n",
    "#trunc_len = int((MAX + MED) / 2) #set truncation somewhere between max and median\n",
    "trunc_len=1024\n",
    "\n",
    "df_train, df_test = train_test_split(classification_df, test_size=0.001, random_state=1234)\n",
    "df_train, df_val = train_test_split(df_train, test_size=0.1, random_state=1234)\n",
    "\n",
    "del classification_df\n",
    "\n",
    "ds_train = Dataset.from_pandas(df_train)\n",
    "ds_val = Dataset.from_pandas(df_val)\n",
    "ds_test = Dataset.from_pandas(df_test)\n",
    "\n",
    "del df_train\n",
    "del df_val\n",
    "del df_test\n",
    "\n",
    "print('Tokenizing...')\n",
    "config = AutoConfig.from_pretrained('distilbert-base-uncased', max_position_embeddings=trunc_len, num_labels=3)\n",
    "tokenizer = AutoTokenizer.from_pretrained('../tokenizers/codonBERT', model_max_length=trunc_len, padding_side='left', truncation_side='right')\n",
    "\n",
    "tokenized_ds_train = ds_train.map(lambda d : tokenizer(d['text'], truncation=True, padding=True), batched=True)\n",
    "tokenized_ds_val = ds_val.map(lambda d : tokenizer(d['text'], truncation=True, padding=True), batched=True)\n",
    "tokenized_ds_test = ds_test.map(lambda d : tokenizer(d['text'], truncation=True, padding=True), batched=True)\n",
    "\n",
    "del ds_train\n",
    "del ds_val\n",
    "del ds_test\n",
    "gc.collect()\n",
    "\n",
    "torch.cuda.empty_cache()"
   ]
  },
  {
   "cell_type": "code",
   "execution_count": 6,
   "id": "1f3b5adc-1d2f-49c4-84ea-4fdfc88bbff6",
   "metadata": {},
   "outputs": [],
   "source": [
    "model = AutoModelForSequenceClassification.from_pretrained('../models/codonBERT-multi_1/checkpoint-99500', num_labels=3)"
   ]
  },
  {
   "cell_type": "code",
   "execution_count": 7,
   "id": "1f14215f-8d85-48b2-aa00-d60b066853ac",
   "metadata": {
    "tags": []
   },
   "outputs": [],
   "source": [
    "training_args = TrainingArguments(\n",
    "    output_dir='./models/codonBERT-multi_{}'.format(RUN),\n",
    "    learning_rate=2e-6,\n",
    "    per_device_train_batch_size=4,\n",
    "    per_device_eval_batch_size=4,\n",
    "    num_train_epochs=10,\n",
    "    weight_decay=0.01,\n",
    ")\n",
    "\n",
    "trainer = Trainer(\n",
    "    model=model,\n",
    "    args=training_args,\n",
    "    train_dataset=tokenized_ds_train,\n",
    "    eval_dataset=tokenized_ds_val,\n",
    "    tokenizer=tokenizer,\n",
    ")"
   ]
  },
  {
   "cell_type": "code",
   "execution_count": 8,
   "id": "597d6cfe-5dcf-4077-816d-34c824d7a147",
   "metadata": {},
   "outputs": [
    {
     "name": "stderr",
     "output_type": "stream",
     "text": [
      "You're using a PreTrainedTokenizerFast tokenizer. Please note that with a fast tokenizer, using the `__call__` method is faster than using a method to encode the text followed by a call to the `pad` method to get a padded encoding.\n"
     ]
    },
    {
     "data": {
      "text/html": [],
      "text/plain": [
       "<IPython.core.display.HTML object>"
      ]
     },
     "metadata": {},
     "output_type": "display_data"
    }
   ],
   "source": [
    "out = trainer.predict(test_dataset=tokenized_ds_test)"
   ]
  },
  {
   "cell_type": "code",
   "execution_count": 9,
   "id": "2e3a2001-6548-4412-a7ea-1fbc0f5cac12",
   "metadata": {
    "tags": []
   },
   "outputs": [
    {
     "data": {
      "text/plain": [
       "PredictionOutput(predictions=array([[-2.5255623 ,  5.1212106 , -3.4514713 ],\n",
       "       [-2.1221964 ,  3.2229214 , -1.7396102 ],\n",
       "       [ 1.9877448 , -0.74847156, -1.2706589 ],\n",
       "       [ 2.6655662 , -0.97397286, -1.8267916 ],\n",
       "       [ 2.5613816 , -0.71557283, -2.178397  ],\n",
       "       [-0.89205337, -2.735126  ,  2.9274848 ],\n",
       "       [ 0.7600011 , -0.49976102, -0.10353615],\n",
       "       [ 4.0823    , -2.5123346 , -2.126842  ],\n",
       "       [ 5.2003407 , -2.6453457 , -2.618096  ],\n",
       "       [-0.6895533 ,  3.3915215 , -3.2710202 ],\n",
       "       [ 1.292421  ,  1.4204543 , -4.086492  ],\n",
       "       [ 0.517953  , -1.2427026 ,  0.84787655],\n",
       "       [-4.1890993 , -4.0134993 ,  6.843054  ],\n",
       "       [-1.3392593 ,  2.9082928 , -1.9447604 ],\n",
       "       [-2.436353  ,  5.179915  , -3.7035255 ],\n",
       "       [ 0.0773719 , -0.14201713,  0.1342983 ],\n",
       "       [ 1.6633685 , -1.6811363 ,  0.24253166],\n",
       "       [-2.628329  , -1.9312184 ,  3.807345  ],\n",
       "       [ 3.787676  , -1.9375843 , -2.2375464 ],\n",
       "       [-3.2756498 , -2.7044618 ,  5.82926   ],\n",
       "       [-0.8586687 ,  2.751525  , -2.0724306 ],\n",
       "       [-1.3800298 , -3.7836175 ,  3.8704872 ],\n",
       "       [-2.3437948 , -2.822927  ,  4.78011   ],\n",
       "       [ 1.4676727 , -1.9707801 ,  0.86605966],\n",
       "       [ 2.2916517 , -0.37024564, -1.7349313 ],\n",
       "       [-2.5839803 ,  4.994949  , -3.1505527 ],\n",
       "       [ 3.0273151 , -0.38225225, -2.7448592 ],\n",
       "       [ 0.07828569,  1.2480115 , -1.7875725 ],\n",
       "       [ 3.634175  , -1.2325141 , -2.1862912 ],\n",
       "       [ 2.5116904 , -0.7478665 , -2.9497337 ],\n",
       "       [ 1.628031  , -0.64689386, -0.58669895],\n",
       "       [ 1.3895746 , -1.6228967 , -0.05916438],\n",
       "       [ 3.28136   , -1.4643734 , -1.7965455 ],\n",
       "       [ 1.3176343 ,  1.2246438 , -2.0214725 ],\n",
       "       [ 1.181386  ,  1.4298624 , -3.2058537 ],\n",
       "       [ 0.71479654,  1.6943612 , -2.5389488 ],\n",
       "       [ 1.74245   ,  0.888822  , -2.329627  ],\n",
       "       [ 1.2874233 ,  0.23954271, -2.5212615 ],\n",
       "       [-0.5057802 , -1.9725347 ,  2.4026852 ],\n",
       "       [-0.838354  ,  2.2525008 , -1.180358  ],\n",
       "       [ 3.5267448 , -1.3040663 , -1.6357076 ],\n",
       "       [-2.3785243 ,  5.160723  , -3.2644339 ],\n",
       "       [ 2.0841532 , -1.7331941 , -0.08353143],\n",
       "       [ 0.13300373,  2.1785548 , -2.3981097 ],\n",
       "       [ 1.6339811 , -0.09117512, -1.2641768 ],\n",
       "       [ 2.0592012 , -1.9302782 ,  0.10810032],\n",
       "       [-2.411362  , -4.6591625 ,  5.9216814 ],\n",
       "       [ 2.9467535 , -1.4180462 , -1.8033335 ],\n",
       "       [ 1.1348246 ,  1.1174443 , -2.7270021 ],\n",
       "       [-1.8429321 ,  4.772086  , -3.7361538 ],\n",
       "       [ 3.8857043 , -0.98332304, -3.332834  ],\n",
       "       [-1.304665  , -0.65189976,  2.05967   ],\n",
       "       [-0.19088554,  1.155185  , -0.91807723],\n",
       "       [-0.2600315 ,  2.035041  , -2.0481267 ],\n",
       "       [ 2.611751  , -0.21005215, -1.8452268 ],\n",
       "       [ 0.24690333,  0.6976764 , -0.7635505 ],\n",
       "       [-1.8529145 ,  3.7349546 , -2.2635813 ],\n",
       "       [ 5.2066355 , -3.4783325 , -1.7499647 ],\n",
       "       [ 2.9374201 , -3.9740224 , -0.44445148],\n",
       "       [ 1.85896   , -0.9538308 , -0.89279294],\n",
       "       [ 3.7795713 , -1.3889921 , -2.6627188 ],\n",
       "       [ 2.542154  , -1.0044239 , -0.9161417 ],\n",
       "       [-2.6688607 , -4.2314124 ,  5.630652  ],\n",
       "       [ 2.905514  , -0.69854516, -1.9877098 ],\n",
       "       [ 3.7366657 , -1.8827971 , -1.8594345 ],\n",
       "       [ 1.0122123 ,  1.4594126 , -2.0620055 ],\n",
       "       [ 3.627911  , -1.2793308 , -2.6784775 ],\n",
       "       [ 2.1827517 , -1.3087103 , -0.37980282],\n",
       "       [-3.4683142 , -4.0107365 ,  6.2034636 ],\n",
       "       [-0.40732148,  3.302539  , -3.138795  ],\n",
       "       [ 1.9980482 , -1.4154776 , -0.19933468]], dtype=float32), label_ids=array([1, 1, 0, 1, 0, 0, 2, 1, 2, 1, 1, 0, 2, 1, 1, 1, 0, 0, 0, 2, 0, 2,\n",
       "       0, 1, 0, 1, 0, 0, 0, 2, 0, 2, 1, 0, 1, 2, 1, 1, 2, 1, 2, 0, 2, 1,\n",
       "       0, 0, 2, 0, 1, 1, 1, 2, 1, 0, 2, 0, 1, 2, 2, 0, 0, 1, 2, 0, 1, 1,\n",
       "       0, 1, 2, 2, 0]), metrics={'test_loss': 1.8319571018218994, 'test_runtime': 12.7168, 'test_samples_per_second': 5.583, 'test_steps_per_second': 1.415})"
      ]
     },
     "execution_count": 9,
     "metadata": {},
     "output_type": "execute_result"
    }
   ],
   "source": [
    "out"
   ]
  },
  {
   "cell_type": "code",
   "execution_count": 32,
   "id": "4a0e7b89-ee4d-4361-8ec5-25a8f64208b6",
   "metadata": {
    "tags": []
   },
   "outputs": [],
   "source": [
    "bert = out[0].mean(axis=1)"
   ]
  },
  {
   "cell_type": "code",
   "execution_count": 53,
   "id": "aefbd65e-dc9e-4253-b274-a58a0d5b017e",
   "metadata": {
    "tags": []
   },
   "outputs": [],
   "source": [
    "import matplotlib.pyplot as plt\n",
    "import seaborn as sns\n",
    "from scipy.stats import spearmanr\n",
    "\n",
    "stat_bert = spearmanr(cai_test['median_exp'], bert)\n",
    "stat_cai = spearmanr(cai_test['median_exp'], cai_test['CAI'])"
   ]
  },
  {
   "cell_type": "code",
   "execution_count": 50,
   "id": "f628766b-760e-48de-b37b-ac94e2ec17f1",
   "metadata": {
    "tags": []
   },
   "outputs": [],
   "source": [
    "cai = pd.read_csv('../data/cai.csv')\n",
    "cai = cai.reindex(cai['Unnamed: 0'])"
   ]
  },
  {
   "cell_type": "code",
   "execution_count": 51,
   "id": "0a53aa2a-8eda-492e-bacc-8f8f59e76d3b",
   "metadata": {
    "tags": []
   },
   "outputs": [
    {
     "data": {
      "text/html": [
       "<div>\n",
       "<style scoped>\n",
       "    .dataframe tbody tr th:only-of-type {\n",
       "        vertical-align: middle;\n",
       "    }\n",
       "\n",
       "    .dataframe tbody tr th {\n",
       "        vertical-align: top;\n",
       "    }\n",
       "\n",
       "    .dataframe thead th {\n",
       "        text-align: right;\n",
       "    }\n",
       "</style>\n",
       "<table border=\"1\" class=\"dataframe\">\n",
       "  <thead>\n",
       "    <tr style=\"text-align: right;\">\n",
       "      <th></th>\n",
       "      <th>Unnamed: 0</th>\n",
       "      <th>GeneName</th>\n",
       "      <th>median_exp</th>\n",
       "      <th>Sequence</th>\n",
       "      <th>CAI</th>\n",
       "      <th>codons_cleaned</th>\n",
       "    </tr>\n",
       "    <tr>\n",
       "      <th>Unnamed: 0</th>\n",
       "      <th></th>\n",
       "      <th></th>\n",
       "      <th></th>\n",
       "      <th></th>\n",
       "      <th></th>\n",
       "      <th></th>\n",
       "    </tr>\n",
       "  </thead>\n",
       "  <tbody>\n",
       "    <tr>\n",
       "      <th>0</th>\n",
       "      <td>0</td>\n",
       "      <td>Gnai3</td>\n",
       "      <td>3.555348</td>\n",
       "      <td>ATGGGCTGCACGTTGAGCGCCGAGGACAAGGCGGCGGTGGAGCGGA...</td>\n",
       "      <td>0.741979</td>\n",
       "      <td>ATG GGC TGC ACG TTG AGC GCC GAG GAC AAG GCG GC...</td>\n",
       "    </tr>\n",
       "    <tr>\n",
       "      <th>1</th>\n",
       "      <td>1</td>\n",
       "      <td>Cdc45</td>\n",
       "      <td>0.371564</td>\n",
       "      <td>ATGTTCGTGACCGATTTCCGCAAGGAGTTCTACGAGACGGTCCACA...</td>\n",
       "      <td>0.769123</td>\n",
       "      <td>ATG TTC GTG ACC GAT TTC CGC AAG GAG TTC TAC GA...</td>\n",
       "    </tr>\n",
       "    <tr>\n",
       "      <th>2</th>\n",
       "      <td>2</td>\n",
       "      <td>Scml2</td>\n",
       "      <td>0.000000</td>\n",
       "      <td>ATGGCAGAGCCTGCCACTGGAGTGCAACTTGCTGGTTCTGGAGAGC...</td>\n",
       "      <td>0.726407</td>\n",
       "      <td>ATG GCA GAG CCT GCC ACT GGA GTG CAA CTT GCT GG...</td>\n",
       "    </tr>\n",
       "    <tr>\n",
       "      <th>3</th>\n",
       "      <td>3</td>\n",
       "      <td>Apoh</td>\n",
       "      <td>-2.302585</td>\n",
       "      <td>ATGGTTTCCCCGGTGCTCGCCTTGTTCTCCGCCTTCCTCTGCCATG...</td>\n",
       "      <td>0.768817</td>\n",
       "      <td>ATG GTT TCC CCG GTG CTC GCC TTG TTC TCC GCC TT...</td>\n",
       "    </tr>\n",
       "    <tr>\n",
       "      <th>4</th>\n",
       "      <td>4</td>\n",
       "      <td>Narf</td>\n",
       "      <td>2.302585</td>\n",
       "      <td>ATGAAGTGTGAGCACTGCACACGAAAGGAATGTAGTAAAAAATCAA...</td>\n",
       "      <td>0.790900</td>\n",
       "      <td>ATG AAG TGT GAG CAC TGC ACA CGA AAG GAA TGT AG...</td>\n",
       "    </tr>\n",
       "    <tr>\n",
       "      <th>...</th>\n",
       "      <td>...</td>\n",
       "      <td>...</td>\n",
       "      <td>...</td>\n",
       "      <td>...</td>\n",
       "      <td>...</td>\n",
       "      <td>...</td>\n",
       "    </tr>\n",
       "    <tr>\n",
       "      <th>5031</th>\n",
       "      <td>5031</td>\n",
       "      <td>Trip12</td>\n",
       "      <td>2.564949</td>\n",
       "      <td>ATGTCCAACCGGCCTAATAACAATCCAGGGGGGTCACTGCGACGTT...</td>\n",
       "      <td>0.699154</td>\n",
       "      <td>ATG TCC AAC CGG CCT AAT AAC AAT CCA GGG GGG TC...</td>\n",
       "    </tr>\n",
       "    <tr>\n",
       "      <th>5032</th>\n",
       "      <td>5032</td>\n",
       "      <td>Slc16a14</td>\n",
       "      <td>0.587787</td>\n",
       "      <td>ATGTATACGAGTCATGAAGATATCGGGTATGACCTTGAAGACGACC...</td>\n",
       "      <td>0.753685</td>\n",
       "      <td>ATG TAT ACG AGT CAT GAA GAT ATC GGG TAT GAC CT...</td>\n",
       "    </tr>\n",
       "    <tr>\n",
       "      <th>5033</th>\n",
       "      <td>5033</td>\n",
       "      <td>Sp100</td>\n",
       "      <td>-1.203973</td>\n",
       "      <td>ATGGAAGGGAGCGACGGCAGCCCCAGGATGTCCACTGAACAGGAGA...</td>\n",
       "      <td>0.749642</td>\n",
       "      <td>ATG GAA GGG AGC GAC GGC AGC CCC AGG ATG TCC AC...</td>\n",
       "    </tr>\n",
       "    <tr>\n",
       "      <th>5034</th>\n",
       "      <td>5034</td>\n",
       "      <td>Itm2c</td>\n",
       "      <td>5.220356</td>\n",
       "      <td>ATGGTGAAGATCAGTTTCCAGCCCGCGGTAGCGGGCATCAAGGCTG...</td>\n",
       "      <td>0.789360</td>\n",
       "      <td>ATG GTG AAG ATC AGT TTC CAG CCC GCG GTA GCG GG...</td>\n",
       "    </tr>\n",
       "    <tr>\n",
       "      <th>5035</th>\n",
       "      <td>5035</td>\n",
       "      <td>Spata3</td>\n",
       "      <td>-0.916291</td>\n",
       "      <td>ATGCTCCAGGGAAAGGCAGTCTTTCCTTTGGCTAACAGGGGTCCCA...</td>\n",
       "      <td>0.748450</td>\n",
       "      <td>ATG CTC CAG GGA AAG GCA GTC TTT CCT TTG GCT AA...</td>\n",
       "    </tr>\n",
       "  </tbody>\n",
       "</table>\n",
       "<p>70740 rows × 6 columns</p>\n",
       "</div>"
      ],
      "text/plain": [
       "            Unnamed: 0  GeneName  median_exp  \\\n",
       "Unnamed: 0                                     \n",
       "0                    0     Gnai3    3.555348   \n",
       "1                    1     Cdc45    0.371564   \n",
       "2                    2     Scml2    0.000000   \n",
       "3                    3      Apoh   -2.302585   \n",
       "4                    4      Narf    2.302585   \n",
       "...                ...       ...         ...   \n",
       "5031              5031    Trip12    2.564949   \n",
       "5032              5032  Slc16a14    0.587787   \n",
       "5033              5033     Sp100   -1.203973   \n",
       "5034              5034     Itm2c    5.220356   \n",
       "5035              5035    Spata3   -0.916291   \n",
       "\n",
       "                                                     Sequence       CAI  \\\n",
       "Unnamed: 0                                                                \n",
       "0           ATGGGCTGCACGTTGAGCGCCGAGGACAAGGCGGCGGTGGAGCGGA...  0.741979   \n",
       "1           ATGTTCGTGACCGATTTCCGCAAGGAGTTCTACGAGACGGTCCACA...  0.769123   \n",
       "2           ATGGCAGAGCCTGCCACTGGAGTGCAACTTGCTGGTTCTGGAGAGC...  0.726407   \n",
       "3           ATGGTTTCCCCGGTGCTCGCCTTGTTCTCCGCCTTCCTCTGCCATG...  0.768817   \n",
       "4           ATGAAGTGTGAGCACTGCACACGAAAGGAATGTAGTAAAAAATCAA...  0.790900   \n",
       "...                                                       ...       ...   \n",
       "5031        ATGTCCAACCGGCCTAATAACAATCCAGGGGGGTCACTGCGACGTT...  0.699154   \n",
       "5032        ATGTATACGAGTCATGAAGATATCGGGTATGACCTTGAAGACGACC...  0.753685   \n",
       "5033        ATGGAAGGGAGCGACGGCAGCCCCAGGATGTCCACTGAACAGGAGA...  0.749642   \n",
       "5034        ATGGTGAAGATCAGTTTCCAGCCCGCGGTAGCGGGCATCAAGGCTG...  0.789360   \n",
       "5035        ATGCTCCAGGGAAAGGCAGTCTTTCCTTTGGCTAACAGGGGTCCCA...  0.748450   \n",
       "\n",
       "                                               codons_cleaned  \n",
       "Unnamed: 0                                                     \n",
       "0           ATG GGC TGC ACG TTG AGC GCC GAG GAC AAG GCG GC...  \n",
       "1           ATG TTC GTG ACC GAT TTC CGC AAG GAG TTC TAC GA...  \n",
       "2           ATG GCA GAG CCT GCC ACT GGA GTG CAA CTT GCT GG...  \n",
       "3           ATG GTT TCC CCG GTG CTC GCC TTG TTC TCC GCC TT...  \n",
       "4           ATG AAG TGT GAG CAC TGC ACA CGA AAG GAA TGT AG...  \n",
       "...                                                       ...  \n",
       "5031        ATG TCC AAC CGG CCT AAT AAC AAT CCA GGG GGG TC...  \n",
       "5032        ATG TAT ACG AGT CAT GAA GAT ATC GGG TAT GAC CT...  \n",
       "5033        ATG GAA GGG AGC GAC GGC AGC CCC AGG ATG TCC AC...  \n",
       "5034        ATG GTG AAG ATC AGT TTC CAG CCC GCG GTA GCG GG...  \n",
       "5035        ATG CTC CAG GGA AAG GCA GTC TTT CCT TTG GCT AA...  \n",
       "\n",
       "[70740 rows x 6 columns]"
      ]
     },
     "execution_count": 51,
     "metadata": {},
     "output_type": "execute_result"
    }
   ],
   "source": [
    "cai"
   ]
  },
  {
   "cell_type": "code",
   "execution_count": 54,
   "id": "2ca78817-dbde-422d-abf2-f79e597be3e4",
   "metadata": {
    "tags": []
   },
   "outputs": [
    {
     "name": "stderr",
     "output_type": "stream",
     "text": [
      "/tmp/ipykernel_3319544/955880993.py:1: SettingWithCopyWarning: \n",
      "A value is trying to be set on a copy of a slice from a DataFrame.\n",
      "Try using .loc[row_indexer,col_indexer] = value instead\n",
      "\n",
      "See the caveats in the documentation: https://pandas.pydata.org/pandas-docs/stable/user_guide/indexing.html#returning-a-view-versus-a-copy\n",
      "  cai_test['bert'] = bert\n"
     ]
    }
   ],
   "source": [
    "cai_test['bert'] = bert"
   ]
  },
  {
   "cell_type": "code",
   "execution_count": 55,
   "id": "562fa86c-6639-4dc8-b909-68244b0f4254",
   "metadata": {
    "tags": []
   },
   "outputs": [
    {
     "data": {
      "text/plain": [
       "SignificanceResult(statistic=-0.03624157767296222, pvalue=0.764135121767346)"
      ]
     },
     "execution_count": 55,
     "metadata": {},
     "output_type": "execute_result"
    }
   ],
   "source": [
    "stat_bert"
   ]
  },
  {
   "cell_type": "code",
   "execution_count": 56,
   "id": "3b0fb2c6-7b5b-460d-a02d-1cd0b247deb8",
   "metadata": {
    "tags": []
   },
   "outputs": [
    {
     "data": {
      "text/plain": [
       "<seaborn.axisgrid.FacetGrid at 0x7f91d7733eb0>"
      ]
     },
     "execution_count": 56,
     "metadata": {},
     "output_type": "execute_result"
    },
    {
     "data": {
      "image/png": "[encoded data removed]",
      "text/plain": [
       "<Figure size 500x500 with 1 Axes>"
      ]
     },
     "metadata": {},
     "output_type": "display_data"
    }
   ],
   "source": [
    "sns.lmplot(data=cai_test, x='bert', y='median_exp')"
   ]
  },
  {
   "cell_type": "code",
   "execution_count": 57,
   "id": "acbb23ca-891c-4c52-b5e4-48e55525d9ad",
   "metadata": {
    "tags": []
   },
   "outputs": [
    {
     "data": {
      "text/plain": [
       "SignificanceResult(statistic=0.204087587470067, pvalue=0.08779097490529394)"
      ]
     },
     "execution_count": 57,
     "metadata": {},
     "output_type": "execute_result"
    }
   ],
   "source": [
    "stat_cai"
   ]
  },
  {
   "cell_type": "code",
   "execution_count": 58,
   "id": "8e7c414b-dd35-4062-b932-778b29a0b7cf",
   "metadata": {
    "tags": []
   },
   "outputs": [
    {
     "data": {
      "text/plain": [
       "<seaborn.axisgrid.FacetGrid at 0x7f91d7324c70>"
      ]
     },
     "execution_count": 58,
     "metadata": {},
     "output_type": "execute_result"
    },
    {
     "data": {
      "image/png": "[encoded data removed]",
      "text/plain": [
       "<Figure size 500x500 with 1 Axes>"
      ]
     },
     "metadata": {},
     "output_type": "display_data"
    }
   ],
   "source": [
    "sns.lmplot(data=cai_test, x='CAI', y='median_exp')"
   ]
  },
  {
   "cell_type": "code",
   "execution_count": 12,
   "id": "51b5b484-e985-4ace-ae53-4e9790209c9e",
   "metadata": {
    "tags": []
   },
   "outputs": [],
   "source": [
    "#s = softmax(out[0])"
   ]
  },
  {
   "cell_type": "code",
   "execution_count": 21,
   "id": "94abfae6-eb5d-470d-b059-f993aa7d293e",
   "metadata": {
    "tags": []
   },
   "outputs": [
    {
     "data": {
      "text/plain": [
       "array([0.47093338, 0.46318194, 0.4053372 , 0.44591302, 0.44014108,\n",
       "       0.45394078, 0.18195021, 0.46902362, 0.47084376, 0.4588303 ,\n",
       "       0.23562257, 0.19829296, 0.47137946, 0.45612025, 0.47095868,\n",
       "       0.03820157, 0.3248768 , 0.46801114, 0.4674113 , 0.47118694,\n",
       "       0.44750172, 0.46738765, 0.4704833 , 0.25026128, 0.41487974,\n",
       "       0.47083855, 0.44687793, 0.29551914, 0.46394676, 0.4426802 ,\n",
       "       0.34773177, 0.3204738 , 0.46100953, 0.22359551, 0.23723936,\n",
       "       0.2928782 , 0.27942032, 0.2959471 , 0.42721525, 0.4204181 ,\n",
       "       0.46184373, 0.47087386, 0.38794068, 0.3871407 , 0.34010395,\n",
       "       0.37606516, 0.4712166 , 0.45661393, 0.2283083 , 0.47031617,\n",
       "       0.46551323, 0.4066995 , 0.2773064 , 0.3981756 , 0.42486152,\n",
       "       0.16784297, 0.46703   , 0.4706125 , 0.44769493, 0.3934809 ,\n",
       "       0.46629313, 0.43118796, 0.4711919 , 0.44775164, 0.46625298,\n",
       "       0.23997657, 0.46495175, 0.40309897, 0.47133404, 0.45352653,\n",
       "       0.38340425], dtype=float32)"
      ]
     },
     "execution_count": 21,
     "metadata": {},
     "output_type": "execute_result"
    }
   ],
   "source": [
    "#np.array(s).std(axis=1)"
   ]
  },
  {
   "cell_type": "code",
   "execution_count": 10,
   "id": "e6037380-244f-436e-b6b9-f2e856cc15ba",
   "metadata": {
    "tags": []
   },
   "outputs": [
    {
     "name": "stderr",
     "output_type": "stream",
     "text": [
      "2023-05-30 07:39:38.594924: I tensorflow/core/common_runtime/gpu/gpu_device.cc:1635] Created device /job:localhost/replica:0/task:0/device:GPU:0 with 41616 MB memory:  -> device: 0, name: NVIDIA A40, pci bus id: 0000:17:00.0, compute capability: 8.6\n"
     ]
    },
    {
     "data": {
      "text/plain": [
       "{'auroc': 0.70928387224757,\n",
       " 'accuracy': <tf.Tensor: shape=(), dtype=float32, numpy=0.5492958>,\n",
       " 'precision': 0.5492957746478874,\n",
       " 'recall': 0.5492957746478874}"
      ]
     },
     "execution_count": 10,
     "metadata": {},
     "output_type": "execute_result"
    }
   ],
   "source": [
    "scores = compute_metrics(out)\n",
    "scores\n",
    "# with open('./results/codonBERT-multi_{}.txt'.format(RUN),'w') as data: \n",
    "#       data.write(str(scores))"
   ]
  }
 ],
 "metadata": {
  "kernelspec": {
   "display_name": "Python 3 (ipykernel)",
   "language": "python",
   "name": "python3"
  },
  "language_info": {
   "codemirror_mode": {
    "name": "ipython",
    "version": 3
   },
   "file_extension": ".py",
   "mimetype": "text/x-python",
   "name": "python",
   "nbconvert_exporter": "python",
   "pygments_lexer": "ipython3",
   "version": "3.9.10"
  }
 },
 "nbformat": 4,
 "nbformat_minor": 5
}
